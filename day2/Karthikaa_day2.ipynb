{
 "cells": [
  {
   "cell_type": "markdown",
   "id": "789e42f3",
   "metadata": {},
   "source": [
    "### importing libraries"
   ]
  },
  {
   "cell_type": "code",
   "execution_count": 3,
   "id": "bb33a9ca",
   "metadata": {},
   "outputs": [],
   "source": [
    "import numpy as np\n",
    "import pandas as pd\n",
    "import matplotlib.pyplot as plt\n",
    "import seaborn as sns"
   ]
  },
  {
   "cell_type": "code",
   "execution_count": 4,
   "id": "cf342438",
   "metadata": {},
   "outputs": [
    {
     "data": {
      "text/html": [
       "<div>\n",
       "<style scoped>\n",
       "    .dataframe tbody tr th:only-of-type {\n",
       "        vertical-align: middle;\n",
       "    }\n",
       "\n",
       "    .dataframe tbody tr th {\n",
       "        vertical-align: top;\n",
       "    }\n",
       "\n",
       "    .dataframe thead th {\n",
       "        text-align: right;\n",
       "    }\n",
       "</style>\n",
       "<table border=\"1\" class=\"dataframe\">\n",
       "  <thead>\n",
       "    <tr style=\"text-align: right;\">\n",
       "      <th></th>\n",
       "      <th>Years of Experience</th>\n",
       "      <th>Salary</th>\n",
       "    </tr>\n",
       "  </thead>\n",
       "  <tbody>\n",
       "    <tr>\n",
       "      <th>0</th>\n",
       "      <td>5.0</td>\n",
       "      <td>90000.0</td>\n",
       "    </tr>\n",
       "    <tr>\n",
       "      <th>1</th>\n",
       "      <td>3.0</td>\n",
       "      <td>65000.0</td>\n",
       "    </tr>\n",
       "    <tr>\n",
       "      <th>2</th>\n",
       "      <td>15.0</td>\n",
       "      <td>150000.0</td>\n",
       "    </tr>\n",
       "    <tr>\n",
       "      <th>3</th>\n",
       "      <td>7.0</td>\n",
       "      <td>60000.0</td>\n",
       "    </tr>\n",
       "    <tr>\n",
       "      <th>4</th>\n",
       "      <td>20.0</td>\n",
       "      <td>200000.0</td>\n",
       "    </tr>\n",
       "  </tbody>\n",
       "</table>\n",
       "</div>"
      ],
      "text/plain": [
       "   Years of Experience    Salary\n",
       "0                  5.0   90000.0\n",
       "1                  3.0   65000.0\n",
       "2                 15.0  150000.0\n",
       "3                  7.0   60000.0\n",
       "4                 20.0  200000.0"
      ]
     },
     "execution_count": 4,
     "metadata": {},
     "output_type": "execute_result"
    }
   ],
   "source": [
    "data = pd.read_csv('salary_prediction.csv')\n",
    "data.head()"
   ]
  },
  {
   "cell_type": "code",
   "execution_count": 55,
   "id": "781160b9",
   "metadata": {},
   "outputs": [
    {
     "data": {
      "text/plain": [
       "40000.0     31\n",
       "50000.0     22\n",
       "95000.0     22\n",
       "180000.0    20\n",
       "120000.0    20\n",
       "90000.0     18\n",
       "150000.0    18\n",
       "45000.0     18\n",
       "160000.0    17\n",
       "60000.0     17\n",
       "110000.0    17\n",
       "170000.0    16\n",
       "130000.0    14\n",
       "100000.0    14\n",
       "140000.0    14\n",
       "35000.0     13\n",
       "80000.0     12\n",
       "55000.0     10\n",
       "85000.0     10\n",
       "70000.0      9\n",
       "65000.0      9\n",
       "105000.0     6\n",
       "190000.0     4\n",
       "75000.0      4\n",
       "115000.0     3\n",
       "250000.0     2\n",
       "200000.0     2\n",
       "135000.0     2\n",
       "175000.0     2\n",
       "125000.0     1\n",
       "30000.0      1\n",
       "220000.0     1\n",
       "185000.0     1\n",
       "145000.0     1\n",
       "155000.0     1\n",
       "350.0        1\n",
       "Name: Salary, dtype: int64"
      ]
     },
     "execution_count": 55,
     "metadata": {},
     "output_type": "execute_result"
    }
   ],
   "source": [
    "data['Salary'].value_counts()"
   ]
  },
  {
   "cell_type": "code",
   "execution_count": 17,
   "id": "e67f45c4",
   "metadata": {},
   "outputs": [
    {
     "data": {
      "text/plain": [
       "Years of Experience    2\n",
       "Salary                 2\n",
       "dtype: int64"
      ]
     },
     "execution_count": 17,
     "metadata": {},
     "output_type": "execute_result"
    }
   ],
   "source": [
    "data.isnull().sum()"
   ]
  },
  {
   "cell_type": "code",
   "execution_count": 18,
   "id": "19b902fc",
   "metadata": {},
   "outputs": [],
   "source": [
    "data = data.dropna()"
   ]
  },
  {
   "cell_type": "code",
   "execution_count": 19,
   "id": "aa1bb90c",
   "metadata": {},
   "outputs": [
    {
     "data": {
      "text/plain": [
       "Years of Experience    0\n",
       "Salary                 0\n",
       "dtype: int64"
      ]
     },
     "execution_count": 19,
     "metadata": {},
     "output_type": "execute_result"
    }
   ],
   "source": [
    "data.isnull().sum()"
   ]
  },
  {
   "cell_type": "markdown",
   "id": "4f3431c9",
   "metadata": {},
   "source": [
    "### Standardization"
   ]
  },
  {
   "cell_type": "code",
   "execution_count": 20,
   "id": "6b7e8f00",
   "metadata": {},
   "outputs": [],
   "source": [
    "from sklearn.preprocessing import StandardScaler"
   ]
  },
  {
   "cell_type": "code",
   "execution_count": 21,
   "id": "fbd23912",
   "metadata": {},
   "outputs": [],
   "source": [
    "sc = StandardScaler()"
   ]
  },
  {
   "cell_type": "code",
   "execution_count": 22,
   "id": "812b2da6",
   "metadata": {},
   "outputs": [],
   "source": [
    "data_sc = sc.fit_transform(data)"
   ]
  },
  {
   "cell_type": "code",
   "execution_count": 23,
   "id": "9b317893",
   "metadata": {},
   "outputs": [],
   "source": [
    "data_sc = pd.DataFrame(data_sc, columns=(data.columns))"
   ]
  },
  {
   "cell_type": "code",
   "execution_count": 24,
   "id": "1b7029ca",
   "metadata": {},
   "outputs": [
    {
     "data": {
      "text/html": [
       "<div>\n",
       "<style scoped>\n",
       "    .dataframe tbody tr th:only-of-type {\n",
       "        vertical-align: middle;\n",
       "    }\n",
       "\n",
       "    .dataframe tbody tr th {\n",
       "        vertical-align: top;\n",
       "    }\n",
       "\n",
       "    .dataframe thead th {\n",
       "        text-align: right;\n",
       "    }\n",
       "</style>\n",
       "<table border=\"1\" class=\"dataframe\">\n",
       "  <thead>\n",
       "    <tr style=\"text-align: right;\">\n",
       "      <th></th>\n",
       "      <th>Years of Experience</th>\n",
       "      <th>Salary</th>\n",
       "    </tr>\n",
       "  </thead>\n",
       "  <tbody>\n",
       "    <tr>\n",
       "      <th>0</th>\n",
       "      <td>-0.768276</td>\n",
       "      <td>-0.219559</td>\n",
       "    </tr>\n",
       "    <tr>\n",
       "      <th>1</th>\n",
       "      <td>-1.073702</td>\n",
       "      <td>-0.738498</td>\n",
       "    </tr>\n",
       "    <tr>\n",
       "      <th>2</th>\n",
       "      <td>0.758859</td>\n",
       "      <td>1.025892</td>\n",
       "    </tr>\n",
       "    <tr>\n",
       "      <th>3</th>\n",
       "      <td>-0.462849</td>\n",
       "      <td>-0.842285</td>\n",
       "    </tr>\n",
       "    <tr>\n",
       "      <th>4</th>\n",
       "      <td>1.522426</td>\n",
       "      <td>2.063768</td>\n",
       "    </tr>\n",
       "  </tbody>\n",
       "</table>\n",
       "</div>"
      ],
      "text/plain": [
       "   Years of Experience    Salary\n",
       "0            -0.768276 -0.219559\n",
       "1            -1.073702 -0.738498\n",
       "2             0.758859  1.025892\n",
       "3            -0.462849 -0.842285\n",
       "4             1.522426  2.063768"
      ]
     },
     "execution_count": 24,
     "metadata": {},
     "output_type": "execute_result"
    }
   ],
   "source": [
    "data_sc.head()"
   ]
  },
  {
   "cell_type": "markdown",
   "id": "a87461bf",
   "metadata": {},
   "source": [
    "### Splitting IndeIndependent and dependent variable"
   ]
  },
  {
   "cell_type": "code",
   "execution_count": 25,
   "id": "836298a6",
   "metadata": {},
   "outputs": [],
   "source": [
    "x = np.array([data['Years of Experience']]) #independent variable\n",
    "y = np.array([data['Salary']])         #dependent variable\n",
    "\n",
    "x = x.reshape(-1,1)\n",
    "y = y.reshape(-1,1)"
   ]
  },
  {
   "cell_type": "markdown",
   "id": "c34acbbf",
   "metadata": {},
   "source": [
    "### Splitting test,train values"
   ]
  },
  {
   "cell_type": "code",
   "execution_count": 26,
   "id": "0f9bfca5",
   "metadata": {},
   "outputs": [],
   "source": [
    "from sklearn.model_selection import train_test_split\n",
    "xtrain,xtest,ytrain,ytest = train_test_split(x,y,test_size=0.1)"
   ]
  },
  {
   "cell_type": "code",
   "execution_count": 27,
   "id": "5ad62442",
   "metadata": {},
   "outputs": [
    {
     "data": {
      "text/plain": [
       "((335, 1), (38, 1), (335, 1), (38, 1))"
      ]
     },
     "execution_count": 27,
     "metadata": {},
     "output_type": "execute_result"
    }
   ],
   "source": [
    "xtrain.shape,xtest.shape,ytrain.shape,ytest.shape"
   ]
  },
  {
   "cell_type": "markdown",
   "id": "7ccd2ab7",
   "metadata": {},
   "source": [
    "## Building Model"
   ]
  },
  {
   "cell_type": "code",
   "execution_count": 28,
   "id": "fd780170",
   "metadata": {},
   "outputs": [],
   "source": [
    "from sklearn.preprocessing import PolynomialFeatures\n",
    "from sklearn.linear_model import LinearRegression\n",
    "from sklearn.metrics import r2_score"
   ]
  },
  {
   "cell_type": "code",
   "execution_count": 29,
   "id": "4e2e692a",
   "metadata": {},
   "outputs": [],
   "source": [
    "lr = LinearRegression()"
   ]
  },
  {
   "cell_type": "code",
   "execution_count": 30,
   "id": "3571602f",
   "metadata": {},
   "outputs": [],
   "source": [
    "lr_mod = lr.fit(xtrain,ytrain)"
   ]
  },
  {
   "cell_type": "code",
   "execution_count": 31,
   "id": "b5926005",
   "metadata": {},
   "outputs": [],
   "source": [
    "lr_train_ypred = lr_mod.predict(xtrain)\n",
    "lr_test_ypred = lr_mod.predict(xtest)"
   ]
  },
  {
   "cell_type": "markdown",
   "id": "d595a3f2",
   "metadata": {},
   "source": [
    "## Acurracy Check"
   ]
  },
  {
   "cell_type": "code",
   "execution_count": 32,
   "id": "1171a061",
   "metadata": {},
   "outputs": [
    {
     "name": "stdout",
     "output_type": "stream",
     "text": [
      "r2 score for training:  0.8684668943808689\n",
      "r2 score for testing:  0.8339544501213114\n"
     ]
    }
   ],
   "source": [
    "from sklearn.metrics import r2_score\n",
    "\n",
    "r2 = r2_score(ytrain, lr_train_ypred)\n",
    "print(\"r2 score for training: \",r2)\n",
    "\n",
    "r2 = r2_score(ytest, lr_test_ypred)\n",
    "print(\"r2 score for testing: \",r2)"
   ]
  },
  {
   "cell_type": "code",
   "execution_count": 46,
   "id": "604e1490",
   "metadata": {},
   "outputs": [
    {
     "name": "stdout",
     "output_type": "stream",
     "text": [
      "r2 score for training:  0.86941173009961\n",
      "r2 score for testing:  0.8421907660395229\n"
     ]
    }
   ],
   "source": [
    "#applying polynomial regression degree 2\n",
    "poly = PolynomialFeatures(degree=2, include_bias=True)\n",
    "x_train_trans = poly.fit_transform(xtrain)\n",
    "x_test_trans = poly.transform(xtest)\n",
    "#include bias parameter\n",
    "lr = LinearRegression()\n",
    "lr.fit(x_train_trans, ytrain)\n",
    "y_pred_test = lr.predict(x_test_trans)\n",
    "y_pred_train = lr.predict(x_train_trans)\n",
    "print(\"r2 score for training: \",r2_score(ytrain, y_pred_train))\n",
    "print(\"r2 score for testing: \",r2_score(ytest, y_pred_test))"
   ]
  },
  {
   "cell_type": "markdown",
   "id": "f692ff81",
   "metadata": {},
   "source": [
    "## Finding Relation through graphs"
   ]
  },
  {
   "cell_type": "code",
   "execution_count": 52,
   "id": "7569bc8a",
   "metadata": {},
   "outputs": [
    {
     "data": {
      "image/png": "[encoded data removed]",
      "text/plain": [
       "<Figure size 640x480 with 1 Axes>"
      ]
     },
     "metadata": {},
     "output_type": "display_data"
    }
   ],
   "source": [
    "plt.plot(data['Years of Experience'],data['Salary'])\n",
    "plt.xlabel('Experience')\n",
    "plt.ylabel('Salary')\n",
    "plt.show()"
   ]
  },
  {
   "cell_type": "markdown",
   "id": "a56c1b20",
   "metadata": {},
   "source": [
    "From the above visual, we can conclude that salary is directly proportional to experience "
   ]
  }
 ],
 "metadata": {
  "kernelspec": {
   "display_name": "Python 3 (ipykernel)",
   "language": "python",
   "name": "python3"
  },
  "language_info": {
   "codemirror_mode": {
    "name": "ipython",
    "version": 3
   },
   "file_extension": ".py",
   "mimetype": "text/x-python",
   "name": "python",
   "nbconvert_exporter": "python",
   "pygments_lexer": "ipython3",
   "version": "3.10.9"
  },
  "toc": {
   "base_numbering": 1,
   "nav_menu": {},
   "number_sections": true,
   "sideBar": true,
   "skip_h1_title": false,
   "title_cell": "Table of Contents",
   "title_sidebar": "Contents",
   "toc_cell": false,
   "toc_position": {},
   "toc_section_display": true,
   "toc_window_display": false
  }
 },
 "nbformat": 4,
 "nbformat_minor": 5
}
