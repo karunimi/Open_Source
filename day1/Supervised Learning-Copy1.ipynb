{
 "cells": [
  {
   "cell_type": "markdown",
   "id": "9c1d71e4",
   "metadata": {},
   "source": [
    "#  SUPERVISED LEARNING"
   ]
  },
  {
   "cell_type": "markdown",
   "id": "b3e98f11",
   "metadata": {},
   "source": [
    "### Importing the required libraries "
   ]
  },
  {
   "cell_type": "code",
   "execution_count": 1,
   "id": "5ebb74ea",
   "metadata": {},
   "outputs": [],
   "source": [
    "import numpy as np\n",
    "import pandas as pd \n",
    "import matplotlib.pyplot as plt \n",
    "import seaborn as sns"
   ]
  },
  {
   "cell_type": "code",
   "execution_count": 2,
   "id": "b8af617f",
   "metadata": {},
   "outputs": [],
   "source": [
    "import warnings\n",
    "warnings.filterwarnings(\"ignore\")"
   ]
  },
  {
   "cell_type": "markdown",
   "id": "a4739a09",
   "metadata": {},
   "source": [
    "###  Importing dataset "
   ]
  },
  {
   "cell_type": "code",
   "execution_count": 20,
   "id": "8195bc9c",
   "metadata": {},
   "outputs": [],
   "source": [
    "## Importing dataset named 'diamond' from seaborn\n",
    "\n",
    "gpa = pd.read_csv('gpa_study_hours.csv')"
   ]
  },
  {
   "cell_type": "code",
   "execution_count": 21,
   "id": "03502a99",
   "metadata": {},
   "outputs": [
    {
     "data": {
      "text/html": [
       "<div>\n",
       "<style scoped>\n",
       "    .dataframe tbody tr th:only-of-type {\n",
       "        vertical-align: middle;\n",
       "    }\n",
       "\n",
       "    .dataframe tbody tr th {\n",
       "        vertical-align: top;\n",
       "    }\n",
       "\n",
       "    .dataframe thead th {\n",
       "        text-align: right;\n",
       "    }\n",
       "</style>\n",
       "<table border=\"1\" class=\"dataframe\">\n",
       "  <thead>\n",
       "    <tr style=\"text-align: right;\">\n",
       "      <th></th>\n",
       "      <th>gpa</th>\n",
       "      <th>study_hours</th>\n",
       "    </tr>\n",
       "  </thead>\n",
       "  <tbody>\n",
       "    <tr>\n",
       "      <th>0</th>\n",
       "      <td>4.00</td>\n",
       "      <td>10.0</td>\n",
       "    </tr>\n",
       "    <tr>\n",
       "      <th>1</th>\n",
       "      <td>3.80</td>\n",
       "      <td>25.0</td>\n",
       "    </tr>\n",
       "    <tr>\n",
       "      <th>2</th>\n",
       "      <td>3.93</td>\n",
       "      <td>45.0</td>\n",
       "    </tr>\n",
       "    <tr>\n",
       "      <th>3</th>\n",
       "      <td>3.40</td>\n",
       "      <td>10.0</td>\n",
       "    </tr>\n",
       "    <tr>\n",
       "      <th>4</th>\n",
       "      <td>3.20</td>\n",
       "      <td>4.0</td>\n",
       "    </tr>\n",
       "    <tr>\n",
       "      <th>...</th>\n",
       "      <td>...</td>\n",
       "      <td>...</td>\n",
       "    </tr>\n",
       "    <tr>\n",
       "      <th>188</th>\n",
       "      <td>3.60</td>\n",
       "      <td>24.0</td>\n",
       "    </tr>\n",
       "    <tr>\n",
       "      <th>189</th>\n",
       "      <td>3.70</td>\n",
       "      <td>12.0</td>\n",
       "    </tr>\n",
       "    <tr>\n",
       "      <th>190</th>\n",
       "      <td>3.84</td>\n",
       "      <td>15.0</td>\n",
       "    </tr>\n",
       "    <tr>\n",
       "      <th>191</th>\n",
       "      <td>3.80</td>\n",
       "      <td>10.0</td>\n",
       "    </tr>\n",
       "    <tr>\n",
       "      <th>192</th>\n",
       "      <td>3.10</td>\n",
       "      <td>15.0</td>\n",
       "    </tr>\n",
       "  </tbody>\n",
       "</table>\n",
       "<p>193 rows × 2 columns</p>\n",
       "</div>"
      ],
      "text/plain": [
       "      gpa  study_hours\n",
       "0    4.00         10.0\n",
       "1    3.80         25.0\n",
       "2    3.93         45.0\n",
       "3    3.40         10.0\n",
       "4    3.20          4.0\n",
       "..    ...          ...\n",
       "188  3.60         24.0\n",
       "189  3.70         12.0\n",
       "190  3.84         15.0\n",
       "191  3.80         10.0\n",
       "192  3.10         15.0\n",
       "\n",
       "[193 rows x 2 columns]"
      ]
     },
     "execution_count": 21,
     "metadata": {},
     "output_type": "execute_result"
    }
   ],
   "source": [
    "gpa"
   ]
  },
  {
   "cell_type": "code",
   "execution_count": 22,
   "id": "f0fd558f",
   "metadata": {},
   "outputs": [
    {
     "name": "stdout",
     "output_type": "stream",
     "text": [
      "<class 'pandas.core.frame.DataFrame'>\n",
      "RangeIndex: 193 entries, 0 to 192\n",
      "Data columns (total 2 columns):\n",
      " #   Column       Non-Null Count  Dtype  \n",
      "---  ------       --------------  -----  \n",
      " 0   gpa          193 non-null    float64\n",
      " 1   study_hours  193 non-null    float64\n",
      "dtypes: float64(2)\n",
      "memory usage: 3.1 KB\n"
     ]
    }
   ],
   "source": [
    "gpa.info()"
   ]
  },
  {
   "cell_type": "code",
   "execution_count": 23,
   "id": "50c70934",
   "metadata": {},
   "outputs": [
    {
     "data": {
      "text/plain": [
       "gpa            float64\n",
       "study_hours    float64\n",
       "dtype: object"
      ]
     },
     "execution_count": 23,
     "metadata": {},
     "output_type": "execute_result"
    }
   ],
   "source": [
    "gpa.dtypes"
   ]
  },
  {
   "cell_type": "code",
   "execution_count": 24,
   "id": "fa224b86",
   "metadata": {},
   "outputs": [
    {
     "data": {
      "text/html": [
       "<div>\n",
       "<style scoped>\n",
       "    .dataframe tbody tr th:only-of-type {\n",
       "        vertical-align: middle;\n",
       "    }\n",
       "\n",
       "    .dataframe tbody tr th {\n",
       "        vertical-align: top;\n",
       "    }\n",
       "\n",
       "    .dataframe thead th {\n",
       "        text-align: right;\n",
       "    }\n",
       "</style>\n",
       "<table border=\"1\" class=\"dataframe\">\n",
       "  <thead>\n",
       "    <tr style=\"text-align: right;\">\n",
       "      <th></th>\n",
       "      <th>gpa</th>\n",
       "      <th>study_hours</th>\n",
       "    </tr>\n",
       "  </thead>\n",
       "  <tbody>\n",
       "    <tr>\n",
       "      <th>count</th>\n",
       "      <td>193.000000</td>\n",
       "      <td>193.000000</td>\n",
       "    </tr>\n",
       "    <tr>\n",
       "      <th>mean</th>\n",
       "      <td>3.586166</td>\n",
       "      <td>17.476684</td>\n",
       "    </tr>\n",
       "    <tr>\n",
       "      <th>std</th>\n",
       "      <td>0.285482</td>\n",
       "      <td>11.408980</td>\n",
       "    </tr>\n",
       "    <tr>\n",
       "      <th>min</th>\n",
       "      <td>2.600000</td>\n",
       "      <td>2.000000</td>\n",
       "    </tr>\n",
       "    <tr>\n",
       "      <th>25%</th>\n",
       "      <td>3.400000</td>\n",
       "      <td>10.000000</td>\n",
       "    </tr>\n",
       "    <tr>\n",
       "      <th>50%</th>\n",
       "      <td>3.620000</td>\n",
       "      <td>15.000000</td>\n",
       "    </tr>\n",
       "    <tr>\n",
       "      <th>75%</th>\n",
       "      <td>3.800000</td>\n",
       "      <td>20.000000</td>\n",
       "    </tr>\n",
       "    <tr>\n",
       "      <th>max</th>\n",
       "      <td>4.300000</td>\n",
       "      <td>69.000000</td>\n",
       "    </tr>\n",
       "  </tbody>\n",
       "</table>\n",
       "</div>"
      ],
      "text/plain": [
       "              gpa  study_hours\n",
       "count  193.000000   193.000000\n",
       "mean     3.586166    17.476684\n",
       "std      0.285482    11.408980\n",
       "min      2.600000     2.000000\n",
       "25%      3.400000    10.000000\n",
       "50%      3.620000    15.000000\n",
       "75%      3.800000    20.000000\n",
       "max      4.300000    69.000000"
      ]
     },
     "execution_count": 24,
     "metadata": {},
     "output_type": "execute_result"
    }
   ],
   "source": [
    "gpa.describe()   "
   ]
  },
  {
   "cell_type": "code",
   "execution_count": 25,
   "id": "360b990d",
   "metadata": {},
   "outputs": [
    {
     "data": {
      "text/plain": [
       "gpa            0\n",
       "study_hours    0\n",
       "dtype: int64"
      ]
     },
     "execution_count": 25,
     "metadata": {},
     "output_type": "execute_result"
    }
   ],
   "source": [
    "gpa.isnull().sum()"
   ]
  },
  {
   "cell_type": "markdown",
   "id": "363d9471",
   "metadata": {},
   "source": [
    "## Standardizing"
   ]
  },
  {
   "cell_type": "code",
   "execution_count": 26,
   "id": "b07b78f1",
   "metadata": {},
   "outputs": [],
   "source": [
    "from sklearn.preprocessing import StandardScaler"
   ]
  },
  {
   "cell_type": "code",
   "execution_count": 27,
   "id": "5d8a47c2",
   "metadata": {},
   "outputs": [],
   "source": [
    "sc = StandardScaler()"
   ]
  },
  {
   "cell_type": "code",
   "execution_count": 28,
   "id": "3b93fcc1",
   "metadata": {},
   "outputs": [],
   "source": [
    "gpa_sc = sc.fit_transform(gps)"
   ]
  },
  {
   "cell_type": "code",
   "execution_count": 29,
   "id": "0f5eb5d2",
   "metadata": {},
   "outputs": [],
   "source": [
    "gpa_sc = pd.DataFrame(gps_sc, columns=(gps.columns))"
   ]
  },
  {
   "cell_type": "code",
   "execution_count": 30,
   "id": "af1c23b7",
   "metadata": {},
   "outputs": [
    {
     "data": {
      "text/html": [
       "<div>\n",
       "<style scoped>\n",
       "    .dataframe tbody tr th:only-of-type {\n",
       "        vertical-align: middle;\n",
       "    }\n",
       "\n",
       "    .dataframe tbody tr th {\n",
       "        vertical-align: top;\n",
       "    }\n",
       "\n",
       "    .dataframe thead th {\n",
       "        text-align: right;\n",
       "    }\n",
       "</style>\n",
       "<table border=\"1\" class=\"dataframe\">\n",
       "  <thead>\n",
       "    <tr style=\"text-align: right;\">\n",
       "      <th></th>\n",
       "      <th>gpa</th>\n",
       "      <th>study_hours</th>\n",
       "    </tr>\n",
       "  </thead>\n",
       "  <tbody>\n",
       "    <tr>\n",
       "      <th>0</th>\n",
       "      <td>1.453370</td>\n",
       "      <td>-0.657038</td>\n",
       "    </tr>\n",
       "    <tr>\n",
       "      <th>1</th>\n",
       "      <td>0.750978</td>\n",
       "      <td>0.661136</td>\n",
       "    </tr>\n",
       "    <tr>\n",
       "      <th>2</th>\n",
       "      <td>1.207533</td>\n",
       "      <td>2.418700</td>\n",
       "    </tr>\n",
       "    <tr>\n",
       "      <th>3</th>\n",
       "      <td>-0.653807</td>\n",
       "      <td>-0.657038</td>\n",
       "    </tr>\n",
       "    <tr>\n",
       "      <th>4</th>\n",
       "      <td>-1.356200</td>\n",
       "      <td>-1.184307</td>\n",
       "    </tr>\n",
       "  </tbody>\n",
       "</table>\n",
       "</div>"
      ],
      "text/plain": [
       "        gpa  study_hours\n",
       "0  1.453370    -0.657038\n",
       "1  0.750978     0.661136\n",
       "2  1.207533     2.418700\n",
       "3 -0.653807    -0.657038\n",
       "4 -1.356200    -1.184307"
      ]
     },
     "execution_count": 30,
     "metadata": {},
     "output_type": "execute_result"
    }
   ],
   "source": [
    "gpa_sc.head()"
   ]
  },
  {
   "cell_type": "code",
   "execution_count": 31,
   "id": "a3244386",
   "metadata": {},
   "outputs": [
    {
     "data": {
      "text/html": [
       "<div>\n",
       "<style scoped>\n",
       "    .dataframe tbody tr th:only-of-type {\n",
       "        vertical-align: middle;\n",
       "    }\n",
       "\n",
       "    .dataframe tbody tr th {\n",
       "        vertical-align: top;\n",
       "    }\n",
       "\n",
       "    .dataframe thead th {\n",
       "        text-align: right;\n",
       "    }\n",
       "</style>\n",
       "<table border=\"1\" class=\"dataframe\">\n",
       "  <thead>\n",
       "    <tr style=\"text-align: right;\">\n",
       "      <th></th>\n",
       "      <th>gpa</th>\n",
       "      <th>study_hours</th>\n",
       "    </tr>\n",
       "  </thead>\n",
       "  <tbody>\n",
       "    <tr>\n",
       "      <th>count</th>\n",
       "      <td>1.930000e+02</td>\n",
       "      <td>1.930000e+02</td>\n",
       "    </tr>\n",
       "    <tr>\n",
       "      <th>mean</th>\n",
       "      <td>-2.719759e-15</td>\n",
       "      <td>-1.426608e-16</td>\n",
       "    </tr>\n",
       "    <tr>\n",
       "      <th>std</th>\n",
       "      <td>1.002601e+00</td>\n",
       "      <td>1.002601e+00</td>\n",
       "    </tr>\n",
       "    <tr>\n",
       "      <th>min</th>\n",
       "      <td>-3.463377e+00</td>\n",
       "      <td>-1.360063e+00</td>\n",
       "    </tr>\n",
       "    <tr>\n",
       "      <th>25%</th>\n",
       "      <td>-6.538074e-01</td>\n",
       "      <td>-6.570376e-01</td>\n",
       "    </tr>\n",
       "    <tr>\n",
       "      <th>50%</th>\n",
       "      <td>1.188244e-01</td>\n",
       "      <td>-2.176466e-01</td>\n",
       "    </tr>\n",
       "    <tr>\n",
       "      <th>75%</th>\n",
       "      <td>7.509777e-01</td>\n",
       "      <td>2.217445e-01</td>\n",
       "    </tr>\n",
       "    <tr>\n",
       "      <th>max</th>\n",
       "      <td>2.506959e+00</td>\n",
       "      <td>4.527777e+00</td>\n",
       "    </tr>\n",
       "  </tbody>\n",
       "</table>\n",
       "</div>"
      ],
      "text/plain": [
       "                gpa   study_hours\n",
       "count  1.930000e+02  1.930000e+02\n",
       "mean  -2.719759e-15 -1.426608e-16\n",
       "std    1.002601e+00  1.002601e+00\n",
       "min   -3.463377e+00 -1.360063e+00\n",
       "25%   -6.538074e-01 -6.570376e-01\n",
       "50%    1.188244e-01 -2.176466e-01\n",
       "75%    7.509777e-01  2.217445e-01\n",
       "max    2.506959e+00  4.527777e+00"
      ]
     },
     "execution_count": 31,
     "metadata": {},
     "output_type": "execute_result"
    }
   ],
   "source": [
    "gpa_sc.describe()"
   ]
  },
  {
   "cell_type": "markdown",
   "id": "a1eb9b3d",
   "metadata": {},
   "source": [
    "### Splitting the independent and dependent variablese"
   ]
  },
  {
   "cell_type": "code",
   "execution_count": 34,
   "id": "ccd5c3c2",
   "metadata": {},
   "outputs": [
    {
     "data": {
      "text/html": [
       "<div>\n",
       "<style scoped>\n",
       "    .dataframe tbody tr th:only-of-type {\n",
       "        vertical-align: middle;\n",
       "    }\n",
       "\n",
       "    .dataframe tbody tr th {\n",
       "        vertical-align: top;\n",
       "    }\n",
       "\n",
       "    .dataframe thead th {\n",
       "        text-align: right;\n",
       "    }\n",
       "</style>\n",
       "<table border=\"1\" class=\"dataframe\">\n",
       "  <thead>\n",
       "    <tr style=\"text-align: right;\">\n",
       "      <th></th>\n",
       "      <th>study_hours</th>\n",
       "    </tr>\n",
       "  </thead>\n",
       "  <tbody>\n",
       "    <tr>\n",
       "      <th>0</th>\n",
       "      <td>10.0</td>\n",
       "    </tr>\n",
       "    <tr>\n",
       "      <th>1</th>\n",
       "      <td>25.0</td>\n",
       "    </tr>\n",
       "    <tr>\n",
       "      <th>2</th>\n",
       "      <td>45.0</td>\n",
       "    </tr>\n",
       "    <tr>\n",
       "      <th>3</th>\n",
       "      <td>10.0</td>\n",
       "    </tr>\n",
       "    <tr>\n",
       "      <th>4</th>\n",
       "      <td>4.0</td>\n",
       "    </tr>\n",
       "  </tbody>\n",
       "</table>\n",
       "</div>"
      ],
      "text/plain": [
       "   study_hours\n",
       "0         10.0\n",
       "1         25.0\n",
       "2         45.0\n",
       "3         10.0\n",
       "4          4.0"
      ]
     },
     "execution_count": 34,
     "metadata": {},
     "output_type": "execute_result"
    }
   ],
   "source": [
    "x = gpa.drop('gpa',axis=1) # Independent Variables\n",
    "x.head()   "
   ]
  },
  {
   "cell_type": "code",
   "execution_count": 36,
   "id": "d4e7e8a7",
   "metadata": {},
   "outputs": [
    {
     "data": {
      "text/html": [
       "<div>\n",
       "<style scoped>\n",
       "    .dataframe tbody tr th:only-of-type {\n",
       "        vertical-align: middle;\n",
       "    }\n",
       "\n",
       "    .dataframe tbody tr th {\n",
       "        vertical-align: top;\n",
       "    }\n",
       "\n",
       "    .dataframe thead th {\n",
       "        text-align: right;\n",
       "    }\n",
       "</style>\n",
       "<table border=\"1\" class=\"dataframe\">\n",
       "  <thead>\n",
       "    <tr style=\"text-align: right;\">\n",
       "      <th></th>\n",
       "      <th>gpa</th>\n",
       "    </tr>\n",
       "  </thead>\n",
       "  <tbody>\n",
       "    <tr>\n",
       "      <th>0</th>\n",
       "      <td>4.00</td>\n",
       "    </tr>\n",
       "    <tr>\n",
       "      <th>1</th>\n",
       "      <td>3.80</td>\n",
       "    </tr>\n",
       "    <tr>\n",
       "      <th>2</th>\n",
       "      <td>3.93</td>\n",
       "    </tr>\n",
       "    <tr>\n",
       "      <th>3</th>\n",
       "      <td>3.40</td>\n",
       "    </tr>\n",
       "    <tr>\n",
       "      <th>4</th>\n",
       "      <td>3.20</td>\n",
       "    </tr>\n",
       "  </tbody>\n",
       "</table>\n",
       "</div>"
      ],
      "text/plain": [
       "    gpa\n",
       "0  4.00\n",
       "1  3.80\n",
       "2  3.93\n",
       "3  3.40\n",
       "4  3.20"
      ]
     },
     "execution_count": 36,
     "metadata": {},
     "output_type": "execute_result"
    }
   ],
   "source": [
    "y = gpa[[\"gpa\"]] # Dependent varibale\n",
    "y.head()"
   ]
  },
  {
   "cell_type": "markdown",
   "id": "2808cf9b",
   "metadata": {},
   "source": [
    "### Splitting the training and testing data "
   ]
  },
  {
   "cell_type": "code",
   "execution_count": 37,
   "id": "5d2e96a1",
   "metadata": {},
   "outputs": [],
   "source": [
    "from sklearn.model_selection import train_test_split"
   ]
  },
  {
   "cell_type": "code",
   "execution_count": 66,
   "id": "fa9f8de6",
   "metadata": {},
   "outputs": [],
   "source": [
    "xtrain, xtest, ytrain, ytest = train_test_split(x, y, test_size=0.2)"
   ]
  },
  {
   "cell_type": "code",
   "execution_count": 67,
   "id": "dfaaf9ed",
   "metadata": {},
   "outputs": [
    {
     "data": {
      "text/plain": [
       "((154, 1), (39, 1), (154, 1), (39, 1))"
      ]
     },
     "execution_count": 67,
     "metadata": {},
     "output_type": "execute_result"
    }
   ],
   "source": [
    "xtrain.shape, xtest.shape, ytrain.shape, ytest.shape"
   ]
  },
  {
   "cell_type": "markdown",
   "id": "867adab2",
   "metadata": {},
   "source": [
    "#### ___________________\n",
    "# 1 REGRESSION ALGORITHM\n",
    "#### ___________________"
   ]
  },
  {
   "cell_type": "markdown",
   "id": "a9e17e16",
   "metadata": {},
   "source": [
    "# 1.1 LINEAR REGRESSION\n",
    "     Building Linear regression model"
   ]
  },
  {
   "cell_type": "code",
   "execution_count": 68,
   "id": "e544b467",
   "metadata": {},
   "outputs": [],
   "source": [
    "from sklearn.linear_model import LinearRegression"
   ]
  },
  {
   "cell_type": "code",
   "execution_count": 69,
   "id": "fe39cf16",
   "metadata": {},
   "outputs": [],
   "source": [
    "lr = LinearRegression()"
   ]
  },
  {
   "cell_type": "code",
   "execution_count": 70,
   "id": "8672e9c7",
   "metadata": {},
   "outputs": [],
   "source": [
    "lr_mod = lr.fit(xtrain, ytrain) "
   ]
  },
  {
   "cell_type": "markdown",
   "id": "5c38a788",
   "metadata": {},
   "source": [
    "NOTE : Model fitting (i.e fit()) is a measure of how well a machine learning model generalizes to similar data to that on which it was trained. A model that is well-fitted produces more accurate outcomes"
   ]
  },
  {
   "cell_type": "code",
   "execution_count": 71,
   "id": "900be1fb",
   "metadata": {},
   "outputs": [
    {
     "data": {
      "text/plain": [
       "array([[3.53882562],\n",
       "       [3.53010266],\n",
       "       [3.59116343],\n",
       "       [3.54754859],\n",
       "       [3.56935601],\n",
       "       [3.53446414],\n",
       "       [3.56499453],\n",
       "       [3.58244046],\n",
       "       [3.59116343],\n",
       "       [3.54754859],\n",
       "       [3.59116343],\n",
       "       [3.6783931 ],\n",
       "       [3.59116343],\n",
       "       [3.6260553 ],\n",
       "       [3.59116343],\n",
       "       [3.56499453],\n",
       "       [3.63477827],\n",
       "       [3.53010266],\n",
       "       [3.56935601],\n",
       "       [3.54754859],\n",
       "       [3.54754859],\n",
       "       [3.54754859],\n",
       "       [3.53882562],\n",
       "       [3.80487613],\n",
       "       [3.54754859],\n",
       "       [3.53882562],\n",
       "       [3.59116343],\n",
       "       [3.54754859],\n",
       "       [3.56499453],\n",
       "       [3.51701821],\n",
       "       [3.59552491],\n",
       "       [3.59116343],\n",
       "       [3.54754859],\n",
       "       [3.63477827],\n",
       "       [3.54754859],\n",
       "       [3.54754859],\n",
       "       [3.53446414],\n",
       "       [3.54754859],\n",
       "       [3.54754859],\n",
       "       [3.53446414],\n",
       "       [3.63477827],\n",
       "       [3.5584523 ],\n",
       "       [3.53882562],\n",
       "       [3.57371749],\n",
       "       [3.53882562],\n",
       "       [3.51265672],\n",
       "       [3.54754859],\n",
       "       [3.6260553 ],\n",
       "       [3.53446414],\n",
       "       [3.54754859],\n",
       "       [3.56935601],\n",
       "       [3.58244046],\n",
       "       [3.54754859],\n",
       "       [3.52574117],\n",
       "       [3.52137969],\n",
       "       [3.56935601],\n",
       "       [3.55191008],\n",
       "       [3.65658569],\n",
       "       [3.59116343],\n",
       "       [3.54754859],\n",
       "       [3.59116343],\n",
       "       [3.6783931 ],\n",
       "       [3.61297085],\n",
       "       [3.54754859],\n",
       "       [3.59116343],\n",
       "       [3.53882562],\n",
       "       [3.54754859],\n",
       "       [3.56935601],\n",
       "       [3.59116343],\n",
       "       [3.54754859],\n",
       "       [3.54754859],\n",
       "       [3.76562278],\n",
       "       [3.63477827],\n",
       "       [3.59116343],\n",
       "       [3.56935601],\n",
       "       [3.59116343],\n",
       "       [3.53010266],\n",
       "       [3.55627156],\n",
       "       [3.61297085],\n",
       "       [3.59552491],\n",
       "       [3.59116343],\n",
       "       [3.59116343],\n",
       "       [3.59116343],\n",
       "       [3.5322834 ],\n",
       "       [3.59116343],\n",
       "       [3.60860936],\n",
       "       [3.59116343],\n",
       "       [3.63477827],\n",
       "       [3.59552491],\n",
       "       [3.61297085],\n",
       "       [3.52137969],\n",
       "       [3.56935601],\n",
       "       [3.52574117],\n",
       "       [3.54754859],\n",
       "       [3.56935601],\n",
       "       [3.70020052],\n",
       "       [3.56935601],\n",
       "       [3.54754859],\n",
       "       [3.56935601],\n",
       "       [3.61297085],\n",
       "       [3.56499453],\n",
       "       [3.53882562],\n",
       "       [3.54754859],\n",
       "       [3.55627156],\n",
       "       [3.56935601],\n",
       "       [3.61297085],\n",
       "       [3.63477827],\n",
       "       [3.56935601],\n",
       "       [3.54318711],\n",
       "       [3.54754859],\n",
       "       [3.54754859],\n",
       "       [3.56935601],\n",
       "       [3.57371749],\n",
       "       [3.53882562],\n",
       "       [3.59116343],\n",
       "       [3.53446414],\n",
       "       [3.55627156],\n",
       "       [3.55627156],\n",
       "       [3.56935601],\n",
       "       [3.63477827],\n",
       "       [3.59116343],\n",
       "       [3.76562278],\n",
       "       [3.6783931 ],\n",
       "       [3.65658569],\n",
       "       [3.61297085],\n",
       "       [3.56935601],\n",
       "       [3.59116343],\n",
       "       [3.59116343],\n",
       "       [3.56499453],\n",
       "       [3.63477827],\n",
       "       [3.63477827],\n",
       "       [3.54754859],\n",
       "       [3.60860936],\n",
       "       [3.55627156],\n",
       "       [3.54754859],\n",
       "       [3.52574117],\n",
       "       [3.54754859],\n",
       "       [3.63477827],\n",
       "       [3.61297085],\n",
       "       [3.65658569],\n",
       "       [3.56499453],\n",
       "       [3.59116343],\n",
       "       [3.76562278],\n",
       "       [3.56935601],\n",
       "       [3.56499453],\n",
       "       [3.56935601],\n",
       "       [3.56935601],\n",
       "       [3.59116343],\n",
       "       [3.71764646],\n",
       "       [3.63477827],\n",
       "       [3.59116343],\n",
       "       [3.60860936],\n",
       "       [3.6783931 ],\n",
       "       [3.56499453]])"
      ]
     },
     "execution_count": 71,
     "metadata": {},
     "output_type": "execute_result"
    }
   ],
   "source": [
    "lr_train_ypred = lr_mod.predict(xtrain)\n",
    "lr_train_ypred"
   ]
  },
  {
   "cell_type": "code",
   "execution_count": 72,
   "id": "49d6b88a",
   "metadata": {},
   "outputs": [
    {
     "data": {
      "text/plain": [
       "array([[3.65658569],\n",
       "       [3.56499453],\n",
       "       [3.54754859],\n",
       "       [3.54754859],\n",
       "       [3.53882562],\n",
       "       [3.53882562],\n",
       "       [3.52574117],\n",
       "       [3.65658569],\n",
       "       [3.56935601],\n",
       "       [3.55627156],\n",
       "       [3.54754859],\n",
       "       [3.54754859],\n",
       "       [3.55627156],\n",
       "       [3.59116343],\n",
       "       [3.54754859],\n",
       "       [3.52574117],\n",
       "       [3.61297085],\n",
       "       [3.56499453],\n",
       "       [3.54754859],\n",
       "       [3.53446414],\n",
       "       [3.6783931 ],\n",
       "       [3.54754859],\n",
       "       [3.52137969],\n",
       "       [3.53010266],\n",
       "       [3.63477827],\n",
       "       [3.70020052],\n",
       "       [3.53446414],\n",
       "       [3.66094717],\n",
       "       [3.51701821],\n",
       "       [3.56935601],\n",
       "       [3.56935601],\n",
       "       [3.59116343],\n",
       "       [3.56935601],\n",
       "       [3.54754859],\n",
       "       [3.54754859],\n",
       "       [3.54754859],\n",
       "       [3.55627156],\n",
       "       [3.55627156],\n",
       "       [3.59116343]])"
      ]
     },
     "execution_count": 72,
     "metadata": {},
     "output_type": "execute_result"
    }
   ],
   "source": [
    "lr_test_ypred = lr_mod.predict(xtest)\n",
    "lr_test_ypred"
   ]
  },
  {
   "cell_type": "markdown",
   "id": "344b9ce9",
   "metadata": {},
   "source": [
    "## Coefficients and intercepts "
   ]
  },
  {
   "cell_type": "code",
   "execution_count": 73,
   "id": "22d4fd96",
   "metadata": {},
   "outputs": [
    {
     "name": "stdout",
     "output_type": "stream",
     "text": [
      "Linear Regression Coeffecients: \n",
      " [[0.00436148]]\n"
     ]
    }
   ],
   "source": [
    "print(\"Linear Regression Coeffecients: \\n {}\".format(lr_mod.coef_))"
   ]
  },
  {
   "cell_type": "code",
   "execution_count": 74,
   "id": "3d7b0000",
   "metadata": {},
   "outputs": [
    {
     "name": "stdout",
     "output_type": "stream",
     "text": [
      "y-intercept: [3.50393375]\n"
     ]
    }
   ],
   "source": [
    "print(\"y-intercept: {}\".format(lr_mod.intercept_))"
   ]
  },
  {
   "cell_type": "markdown",
   "id": "e44376ae",
   "metadata": {},
   "source": [
    "## Evaluation Metrics"
   ]
  },
  {
   "cell_type": "code",
   "execution_count": 75,
   "id": "78b9adb1",
   "metadata": {},
   "outputs": [],
   "source": [
    "from sklearn.metrics import mean_squared_error , mean_absolute_error,mean_absolute_percentage_error"
   ]
  },
  {
   "cell_type": "code",
   "execution_count": 76,
   "id": "e791f955",
   "metadata": {},
   "outputs": [
    {
     "name": "stdout",
     "output_type": "stream",
     "text": [
      "           Training              Testing\n",
      "MSE  : 0.08243645372706951    0.06947503783667941\n",
      "RMSE : 0.2871174911548746     0.26358117883619725\n",
      "MAE  : 0.2326807602587976    0.21539898000078048\n",
      "MAPE : 0.06716664234272043     0.06001693309105189\n"
     ]
    }
   ],
   "source": [
    "print(\"           Training              Testing\")\n",
    "\n",
    "## Mean Squared Error\n",
    "\n",
    "print(\"MSE  : {}\".format(mean_squared_error((ytrain),(lr_train_ypred))),end=\" \")\n",
    "print(\"   {}\".format(mean_squared_error((ytest),(lr_test_ypred))))\n",
    "\n",
    "\n",
    "## Root Mean Squared Error\n",
    "\n",
    "print(\"RMSE : {}\".format(np.sqrt(mean_squared_error((ytrain),(lr_train_ypred)))),end=\" \")\n",
    "print(\"    {}\".format(np.sqrt(mean_squared_error((ytest),(lr_test_ypred)))))\n",
    "\n",
    "\n",
    "## Mean Absolute Error\n",
    "\n",
    "print(\"MAE  : {}\".format(mean_absolute_error((ytrain),(lr_train_ypred))),end=\" \")\n",
    "print(\"   {}\".format(mean_absolute_error((ytest),(lr_test_ypred))))\n",
    "\n",
    "\n",
    "## Mean Absolute Percentage Error\n",
    "\n",
    "print(\"MAPE : {}\".format(mean_absolute_percentage_error((ytrain),(lr_train_ypred))),end=\" \")\n",
    "print(\"    {}\".format(mean_absolute_percentage_error((ytest),(lr_test_ypred))))"
   ]
  },
  {
   "cell_type": "code",
   "execution_count": 77,
   "id": "5d2c8ddb",
   "metadata": {},
   "outputs": [
    {
     "name": "stdout",
     "output_type": "stream",
     "text": [
      "training accuracy 0.029840276779067754\n",
      "testing accuracy -0.061466982442799356\n"
     ]
    }
   ],
   "source": [
    "from sklearn.metrics import r2_score\n",
    "\n",
    "r2 = r2_score(ytrain, lr_train_ypred)\n",
    "print(\"training accuracy\",r2)\n",
    "\n",
    "r2 = r2_score(ytest, lr_test_ypred)\n",
    "print(\"testing accuracy\",r2)"
   ]
  },
  {
   "cell_type": "markdown",
   "id": "f56a1425",
   "metadata": {},
   "source": [
    "# 1.2 Decision Tree Regressor "
   ]
  },
  {
   "cell_type": "code",
   "execution_count": 78,
   "id": "3fe4f55c",
   "metadata": {},
   "outputs": [],
   "source": [
    "from sklearn.tree import DecisionTreeRegressor"
   ]
  },
  {
   "cell_type": "code",
   "execution_count": 79,
   "id": "8be5061c",
   "metadata": {},
   "outputs": [],
   "source": [
    "dt = DecisionTreeRegressor()"
   ]
  },
  {
   "cell_type": "code",
   "execution_count": 80,
   "id": "cb42fbad",
   "metadata": {},
   "outputs": [],
   "source": [
    "dt_mod = dt.fit(xtrain, ytrain)"
   ]
  },
  {
   "cell_type": "code",
   "execution_count": 81,
   "id": "67d03d25",
   "metadata": {},
   "outputs": [
    {
     "data": {
      "text/plain": [
       "array([3.460625  , 3.61666667, 3.6338    , 3.63535714, 3.60888889,\n",
       "       3.325     , 3.489625  , 3.105     , 3.6338    , 3.63535714,\n",
       "       3.6338    , 3.696     , 3.6338    , 3.75      , 3.6338    ,\n",
       "       3.489625  , 3.54472727, 3.61666667, 3.60888889, 3.63535714,\n",
       "       3.63535714, 3.63535714, 3.460625  , 3.85      , 3.63535714,\n",
       "       3.460625  , 3.6338    , 3.63535714, 3.489625  , 3.5       ,\n",
       "       3.56666667, 3.6338    , 3.63535714, 3.54472727, 3.63535714,\n",
       "       3.63535714, 3.325     , 3.63535714, 3.63535714, 3.325     ,\n",
       "       3.54472727, 3.3       , 3.460625  , 3.375     , 3.460625  ,\n",
       "       3.86      , 3.63535714, 3.75      , 3.325     , 3.63535714,\n",
       "       3.60888889, 3.105     , 3.63535714, 3.52833333, 3.4       ,\n",
       "       3.60888889, 3.6       , 3.6       , 3.6338    , 3.63535714,\n",
       "       3.6338    , 3.696     , 3.73428571, 3.63535714, 3.6338    ,\n",
       "       3.460625  , 3.63535714, 3.60888889, 3.6338    , 3.63535714,\n",
       "       3.63535714, 3.82833333, 3.54472727, 3.6338    , 3.60888889,\n",
       "       3.6338    , 3.61666667, 3.7208    , 3.73428571, 3.56666667,\n",
       "       3.6338    , 3.6338    , 3.6338    , 2.95      , 3.6338    ,\n",
       "       3.48      , 3.6338    , 3.54472727, 3.56666667, 3.73428571,\n",
       "       3.4       , 3.60888889, 3.52833333, 3.63535714, 3.60888889,\n",
       "       3.7       , 3.60888889, 3.63535714, 3.60888889, 3.73428571,\n",
       "       3.489625  , 3.460625  , 3.63535714, 3.7208    , 3.60888889,\n",
       "       3.73428571, 3.54472727, 3.60888889, 3.        , 3.63535714,\n",
       "       3.63535714, 3.60888889, 3.375     , 3.460625  , 3.6338    ,\n",
       "       3.325     , 3.7208    , 3.7208    , 3.60888889, 3.54472727,\n",
       "       3.6338    , 3.82833333, 3.696     , 3.6       , 3.73428571,\n",
       "       3.60888889, 3.6338    , 3.6338    , 3.489625  , 3.54472727,\n",
       "       3.54472727, 3.63535714, 3.48      , 3.7208    , 3.63535714,\n",
       "       3.52833333, 3.63535714, 3.54472727, 3.73428571, 3.6       ,\n",
       "       3.489625  , 3.6338    , 3.82833333, 3.60888889, 3.489625  ,\n",
       "       3.60888889, 3.60888889, 3.6338    , 3.5       , 3.54472727,\n",
       "       3.6338    , 3.48      , 3.696     , 3.489625  ])"
      ]
     },
     "execution_count": 81,
     "metadata": {},
     "output_type": "execute_result"
    }
   ],
   "source": [
    "dt_train_pred = dt_mod.predict(xtrain)\n",
    "dt_train_pred"
   ]
  },
  {
   "cell_type": "code",
   "execution_count": 82,
   "id": "780a226f",
   "metadata": {},
   "outputs": [
    {
     "data": {
      "text/plain": [
       "array([3.6       , 3.489625  , 3.63535714, 3.63535714, 3.460625  ,\n",
       "       3.460625  , 3.52833333, 3.6       , 3.60888889, 3.7208    ,\n",
       "       3.63535714, 3.63535714, 3.7208    , 3.6338    , 3.63535714,\n",
       "       3.52833333, 3.73428571, 3.489625  , 3.63535714, 3.325     ,\n",
       "       3.696     , 3.63535714, 3.4       , 3.61666667, 3.54472727,\n",
       "       3.7       , 3.325     , 3.6       , 3.5       , 3.60888889,\n",
       "       3.60888889, 3.6338    , 3.60888889, 3.63535714, 3.63535714,\n",
       "       3.63535714, 3.7208    , 3.7208    , 3.6338    ])"
      ]
     },
     "execution_count": 82,
     "metadata": {},
     "output_type": "execute_result"
    }
   ],
   "source": [
    "dt_test_pred = dt_mod.predict(xtest)\n",
    "dt_test_pred"
   ]
  },
  {
   "cell_type": "markdown",
   "id": "358448b5",
   "metadata": {},
   "source": [
    "## 1.2.1 Evaluation Metrics"
   ]
  },
  {
   "cell_type": "code",
   "execution_count": 83,
   "id": "133742fe",
   "metadata": {},
   "outputs": [
    {
     "name": "stdout",
     "output_type": "stream",
     "text": [
      "           Training              Testing\n",
      "MSE  : 0.0662243054117239    0.0704854489721455\n",
      "RMSE : 0.2573408351034167     0.26549095836232445\n",
      "MAE  : 0.19816507749105147    0.2121873348873349\n",
      "MAPE : 0.05700302221873011     0.05965760666073643\n"
     ]
    }
   ],
   "source": [
    "print(\"           Training              Testing\")\n",
    "\n",
    "## Mean Squared Error\n",
    "\n",
    "print(\"MSE  : {}\".format(mean_squared_error((ytrain),(dt_train_pred))),end=\" \")\n",
    "print(\"   {}\".format(mean_squared_error((ytest),(dt_test_pred))))\n",
    "\n",
    "\n",
    "## Root Mean Squared Error\n",
    "\n",
    "print(\"RMSE : {}\".format(np.sqrt(mean_squared_error((ytrain),(dt_train_pred)))),end=\" \")\n",
    "print(\"    {}\".format(np.sqrt(mean_squared_error((ytest),(dt_test_pred)))))\n",
    "\n",
    "\n",
    "## Mean Absolute Error\n",
    "\n",
    "print(\"MAE  : {}\".format(mean_absolute_error((ytrain),(dt_train_pred))),end=\" \")\n",
    "print(\"   {}\".format(mean_absolute_error((ytest),(dt_test_pred))))\n",
    "\n",
    "\n",
    "## Mean Absolute Percentage Error\n",
    "\n",
    "print(\"MAPE : {}\".format(mean_absolute_percentage_error((ytrain),(dt_train_pred))),end=\" \")\n",
    "print(\"    {}\".format(mean_absolute_percentage_error((ytest),(dt_test_pred))))"
   ]
  },
  {
   "cell_type": "code",
   "execution_count": 85,
   "id": "96bd569f",
   "metadata": {},
   "outputs": [
    {
     "name": "stdout",
     "output_type": "stream",
     "text": [
      "training accuracy 0.22063418664940093\n",
      "testing accuracy -0.07690444159915177\n"
     ]
    }
   ],
   "source": [
    "from sklearn.metrics import r2_score\n",
    "\n",
    "r2 = r2_score(ytrain, dt_train_pred)\n",
    "print(\"training accuracy\",r2)\n",
    "\n",
    "r2 = r2_score(ytest, dt_test_pred)\n",
    "print(\"testing accuracy\",r2)"
   ]
  },
  {
   "cell_type": "markdown",
   "id": "228cae28",
   "metadata": {},
   "source": [
    "# 1.3 Random Forest Regressor"
   ]
  },
  {
   "cell_type": "code",
   "execution_count": 86,
   "id": "fceca152",
   "metadata": {},
   "outputs": [],
   "source": [
    "from sklearn.ensemble import RandomForestRegressor"
   ]
  },
  {
   "cell_type": "code",
   "execution_count": 87,
   "id": "74a2be03",
   "metadata": {},
   "outputs": [],
   "source": [
    "rf = RandomForestRegressor()"
   ]
  },
  {
   "cell_type": "code",
   "execution_count": 88,
   "id": "7262175b",
   "metadata": {},
   "outputs": [],
   "source": [
    "rf_mod = rf.fit(xtrain, ytrain)"
   ]
  },
  {
   "cell_type": "code",
   "execution_count": 89,
   "id": "542c31c6",
   "metadata": {},
   "outputs": [
    {
     "data": {
      "text/plain": [
       "array([3.48244651, 3.5713381 , 3.62107465, 3.64066408, 3.60693292,\n",
       "       3.31170267, 3.48331801, 3.15374062, 3.62107465, 3.64066408,\n",
       "       3.62107465, 3.67603488, 3.62107465, 3.73652843, 3.62107465,\n",
       "       3.48331801, 3.55055702, 3.5713381 , 3.60693292, 3.64066408,\n",
       "       3.64066408, 3.64066408, 3.48244651, 3.83695893, 3.64066408,\n",
       "       3.48244651, 3.62107465, 3.64066408, 3.48331801, 3.59626667,\n",
       "       3.55197148, 3.62107465, 3.64066408, 3.55055702, 3.64066408,\n",
       "       3.64066408, 3.31170267, 3.64066408, 3.64066408, 3.31170267,\n",
       "       3.55055702, 3.47359723, 3.48244651, 3.38926923, 3.48244651,\n",
       "       3.71866667, 3.64066408, 3.73652843, 3.31170267, 3.64066408,\n",
       "       3.60693292, 3.15374062, 3.64066408, 3.5143625 , 3.4060875 ,\n",
       "       3.60693292, 3.61621884, 3.59395529, 3.62107465, 3.64066408,\n",
       "       3.62107465, 3.67603488, 3.73726624, 3.64066408, 3.62107465,\n",
       "       3.48244651, 3.64066408, 3.60693292, 3.62107465, 3.64066408,\n",
       "       3.64066408, 3.82427452, 3.55055702, 3.62107465, 3.60693292,\n",
       "       3.62107465, 3.5713381 , 3.72477121, 3.73726624, 3.55197148,\n",
       "       3.62107465, 3.62107465, 3.62107465, 3.18386667, 3.62107465,\n",
       "       3.5162456 , 3.62107465, 3.55055702, 3.55197148, 3.73726624,\n",
       "       3.4060875 , 3.60693292, 3.5143625 , 3.64066408, 3.60693292,\n",
       "       3.64952071, 3.60693292, 3.64066408, 3.60693292, 3.73726624,\n",
       "       3.48331801, 3.48244651, 3.64066408, 3.72477121, 3.60693292,\n",
       "       3.73726624, 3.55055702, 3.60693292, 3.23399709, 3.64066408,\n",
       "       3.64066408, 3.60693292, 3.38926923, 3.48244651, 3.62107465,\n",
       "       3.31170267, 3.72477121, 3.72477121, 3.60693292, 3.55055702,\n",
       "       3.62107465, 3.82427452, 3.67603488, 3.59395529, 3.73726624,\n",
       "       3.60693292, 3.62107465, 3.62107465, 3.48331801, 3.55055702,\n",
       "       3.55055702, 3.64066408, 3.5162456 , 3.72477121, 3.64066408,\n",
       "       3.5143625 , 3.64066408, 3.55055702, 3.73726624, 3.59395529,\n",
       "       3.48331801, 3.62107465, 3.82427452, 3.60693292, 3.48331801,\n",
       "       3.60693292, 3.60693292, 3.62107465, 3.58352071, 3.55055702,\n",
       "       3.62107465, 3.5162456 , 3.67603488, 3.48331801])"
      ]
     },
     "execution_count": 89,
     "metadata": {},
     "output_type": "execute_result"
    }
   ],
   "source": [
    "rf_train_pred = rf_mod.predict(xtrain)\n",
    "rf_train_pred"
   ]
  },
  {
   "cell_type": "code",
   "execution_count": 90,
   "id": "48ad12db",
   "metadata": {},
   "outputs": [
    {
     "data": {
      "text/plain": [
       "array([3.59395529, 3.48331801, 3.64066408, 3.64066408, 3.48244651,\n",
       "       3.48244651, 3.5143625 , 3.59395529, 3.60693292, 3.72477121,\n",
       "       3.64066408, 3.64066408, 3.72477121, 3.62107465, 3.64066408,\n",
       "       3.5143625 , 3.73726624, 3.48331801, 3.64066408, 3.31170267,\n",
       "       3.67603488, 3.64066408, 3.4060875 , 3.5713381 , 3.55055702,\n",
       "       3.64952071, 3.31170267, 3.60434833, 3.59626667, 3.60693292,\n",
       "       3.60693292, 3.62107465, 3.60693292, 3.64066408, 3.64066408,\n",
       "       3.64066408, 3.72477121, 3.72477121, 3.62107465])"
      ]
     },
     "execution_count": 90,
     "metadata": {},
     "output_type": "execute_result"
    }
   ],
   "source": [
    "rf_test_pred = rf_mod.predict(xtest)\n",
    "rf_test_pred"
   ]
  },
  {
   "cell_type": "markdown",
   "id": "62a6272e",
   "metadata": {},
   "source": [
    "## 1.3.1 Evaluation Metrics"
   ]
  },
  {
   "cell_type": "code",
   "execution_count": 91,
   "id": "cc789059",
   "metadata": {},
   "outputs": [
    {
     "name": "stdout",
     "output_type": "stream",
     "text": [
      "           Training              Testing\n",
      "MSE  : 0.06757433002873235    0.07077962841154743\n",
      "RMSE : 0.25995062998333424     0.26604441060008654\n",
      "MAE  : 0.20534177208026425    0.213541520337638\n",
      "MAPE : 0.05917397281667387     0.06003199155616904\n"
     ]
    }
   ],
   "source": [
    "print(\"           Training              Testing\")\n",
    "\n",
    "## Mean Squared Error\n",
    "\n",
    "print(\"MSE  : {}\".format(mean_squared_error((ytrain),(rf_train_pred))),end=\" \")\n",
    "print(\"   {}\".format(mean_squared_error((ytest),(rf_test_pred))))\n",
    "\n",
    "\n",
    "## Root Mean Squared Error\n",
    "\n",
    "print(\"RMSE : {}\".format(np.sqrt(mean_squared_error((ytrain),(rf_train_pred)))),end=\" \")\n",
    "print(\"    {}\".format(np.sqrt(mean_squared_error((ytest),(rf_test_pred)))))\n",
    "\n",
    "\n",
    "## Mean Absolute Error\n",
    "\n",
    "print(\"MAE  : {}\".format(mean_absolute_error((ytrain),(rf_train_pred))),end=\" \")\n",
    "print(\"   {}\".format(mean_absolute_error((ytest),(rf_test_pred))))\n",
    "\n",
    "\n",
    "## Mean Absolute Percentage Error\n",
    "\n",
    "print(\"MAPE : {}\".format(mean_absolute_percentage_error((ytrain),(rf_train_pred))),end=\" \")\n",
    "print(\"    {}\".format(mean_absolute_percentage_error((ytest),(rf_test_pred))))"
   ]
  },
  {
   "cell_type": "code",
   "execution_count": 94,
   "id": "642800d8",
   "metadata": {},
   "outputs": [
    {
     "name": "stdout",
     "output_type": "stream",
     "text": [
      "training accuracy 0.2047463184847339\n",
      "testing accuracy -0.08139903090146694\n"
     ]
    }
   ],
   "source": [
    "from sklearn.metrics import r2_score\n",
    "\n",
    "r2 = r2_score(ytrain, rf_train_pred)\n",
    "print(\"training accuracy\",r2)\n",
    "\n",
    "r2 = r2_score(ytest, rf_test_pred)\n",
    "print(\"testing accuracy\",r2)"
   ]
  },
  {
   "cell_type": "markdown",
   "id": "656746a2",
   "metadata": {},
   "source": [
    "# Selecting New Dataset For classification"
   ]
  },
  {
   "cell_type": "code",
   "execution_count": 92,
   "id": "120b506e",
   "metadata": {},
   "outputs": [
    {
     "data": {
      "text/plain": [
       "['anagrams',\n",
       " 'anscombe',\n",
       " 'attention',\n",
       " 'brain_networks',\n",
       " 'car_crashes',\n",
       " 'diamonds',\n",
       " 'dots',\n",
       " 'dowjones',\n",
       " 'exercise',\n",
       " 'flights',\n",
       " 'fmri',\n",
       " 'geyser',\n",
       " 'glue',\n",
       " 'healthexp',\n",
       " 'iris',\n",
       " 'mpg',\n",
       " 'penguins',\n",
       " 'planets',\n",
       " 'seaice',\n",
       " 'taxis',\n",
       " 'tips',\n",
       " 'titanic']"
      ]
     },
     "execution_count": 92,
     "metadata": {},
     "output_type": "execute_result"
    }
   ],
   "source": [
    "sns.get_dataset_names()"
   ]
  },
  {
   "cell_type": "markdown",
   "id": "94eb691c",
   "metadata": {},
   "source": [
    "### Importing planet dataset"
   ]
  },
  {
   "cell_type": "code",
   "execution_count": 59,
   "id": "58193c34",
   "metadata": {},
   "outputs": [
    {
     "data": {
      "text/html": [
       "<div>\n",
       "<style scoped>\n",
       "    .dataframe tbody tr th:only-of-type {\n",
       "        vertical-align: middle;\n",
       "    }\n",
       "\n",
       "    .dataframe tbody tr th {\n",
       "        vertical-align: top;\n",
       "    }\n",
       "\n",
       "    .dataframe thead th {\n",
       "        text-align: right;\n",
       "    }\n",
       "</style>\n",
       "<table border=\"1\" class=\"dataframe\">\n",
       "  <thead>\n",
       "    <tr style=\"text-align: right;\">\n",
       "      <th></th>\n",
       "      <th>method</th>\n",
       "      <th>number</th>\n",
       "      <th>orbital_period</th>\n",
       "      <th>mass</th>\n",
       "      <th>distance</th>\n",
       "      <th>year</th>\n",
       "    </tr>\n",
       "  </thead>\n",
       "  <tbody>\n",
       "    <tr>\n",
       "      <th>0</th>\n",
       "      <td>Radial Velocity</td>\n",
       "      <td>1</td>\n",
       "      <td>269.300000</td>\n",
       "      <td>7.10</td>\n",
       "      <td>77.40</td>\n",
       "      <td>2006</td>\n",
       "    </tr>\n",
       "    <tr>\n",
       "      <th>1</th>\n",
       "      <td>Radial Velocity</td>\n",
       "      <td>1</td>\n",
       "      <td>874.774000</td>\n",
       "      <td>2.21</td>\n",
       "      <td>56.95</td>\n",
       "      <td>2008</td>\n",
       "    </tr>\n",
       "    <tr>\n",
       "      <th>2</th>\n",
       "      <td>Radial Velocity</td>\n",
       "      <td>1</td>\n",
       "      <td>763.000000</td>\n",
       "      <td>2.60</td>\n",
       "      <td>19.84</td>\n",
       "      <td>2011</td>\n",
       "    </tr>\n",
       "    <tr>\n",
       "      <th>3</th>\n",
       "      <td>Radial Velocity</td>\n",
       "      <td>1</td>\n",
       "      <td>326.030000</td>\n",
       "      <td>19.40</td>\n",
       "      <td>110.62</td>\n",
       "      <td>2007</td>\n",
       "    </tr>\n",
       "    <tr>\n",
       "      <th>4</th>\n",
       "      <td>Radial Velocity</td>\n",
       "      <td>1</td>\n",
       "      <td>516.220000</td>\n",
       "      <td>10.50</td>\n",
       "      <td>119.47</td>\n",
       "      <td>2009</td>\n",
       "    </tr>\n",
       "    <tr>\n",
       "      <th>...</th>\n",
       "      <td>...</td>\n",
       "      <td>...</td>\n",
       "      <td>...</td>\n",
       "      <td>...</td>\n",
       "      <td>...</td>\n",
       "      <td>...</td>\n",
       "    </tr>\n",
       "    <tr>\n",
       "      <th>1030</th>\n",
       "      <td>Transit</td>\n",
       "      <td>1</td>\n",
       "      <td>3.941507</td>\n",
       "      <td>NaN</td>\n",
       "      <td>172.00</td>\n",
       "      <td>2006</td>\n",
       "    </tr>\n",
       "    <tr>\n",
       "      <th>1031</th>\n",
       "      <td>Transit</td>\n",
       "      <td>1</td>\n",
       "      <td>2.615864</td>\n",
       "      <td>NaN</td>\n",
       "      <td>148.00</td>\n",
       "      <td>2007</td>\n",
       "    </tr>\n",
       "    <tr>\n",
       "      <th>1032</th>\n",
       "      <td>Transit</td>\n",
       "      <td>1</td>\n",
       "      <td>3.191524</td>\n",
       "      <td>NaN</td>\n",
       "      <td>174.00</td>\n",
       "      <td>2007</td>\n",
       "    </tr>\n",
       "    <tr>\n",
       "      <th>1033</th>\n",
       "      <td>Transit</td>\n",
       "      <td>1</td>\n",
       "      <td>4.125083</td>\n",
       "      <td>NaN</td>\n",
       "      <td>293.00</td>\n",
       "      <td>2008</td>\n",
       "    </tr>\n",
       "    <tr>\n",
       "      <th>1034</th>\n",
       "      <td>Transit</td>\n",
       "      <td>1</td>\n",
       "      <td>4.187757</td>\n",
       "      <td>NaN</td>\n",
       "      <td>260.00</td>\n",
       "      <td>2008</td>\n",
       "    </tr>\n",
       "  </tbody>\n",
       "</table>\n",
       "<p>1035 rows × 6 columns</p>\n",
       "</div>"
      ],
      "text/plain": [
       "               method  number  orbital_period   mass  distance  year\n",
       "0     Radial Velocity       1      269.300000   7.10     77.40  2006\n",
       "1     Radial Velocity       1      874.774000   2.21     56.95  2008\n",
       "2     Radial Velocity       1      763.000000   2.60     19.84  2011\n",
       "3     Radial Velocity       1      326.030000  19.40    110.62  2007\n",
       "4     Radial Velocity       1      516.220000  10.50    119.47  2009\n",
       "...               ...     ...             ...    ...       ...   ...\n",
       "1030          Transit       1        3.941507    NaN    172.00  2006\n",
       "1031          Transit       1        2.615864    NaN    148.00  2007\n",
       "1032          Transit       1        3.191524    NaN    174.00  2007\n",
       "1033          Transit       1        4.125083    NaN    293.00  2008\n",
       "1034          Transit       1        4.187757    NaN    260.00  2008\n",
       "\n",
       "[1035 rows x 6 columns]"
      ]
     },
     "execution_count": 59,
     "metadata": {},
     "output_type": "execute_result"
    }
   ],
   "source": [
    "planet=sns.load_dataset('planets')\n",
    "planet"
   ]
  },
  {
   "cell_type": "code",
   "execution_count": 60,
   "id": "99351890",
   "metadata": {},
   "outputs": [
    {
     "data": {
      "text/plain": [
       "(1035, 6)"
      ]
     },
     "execution_count": 60,
     "metadata": {},
     "output_type": "execute_result"
    }
   ],
   "source": [
    "planet.shape"
   ]
  },
  {
   "cell_type": "code",
   "execution_count": 61,
   "id": "b30723c8",
   "metadata": {},
   "outputs": [
    {
     "data": {
      "text/plain": [
       "Radial Velocity                  553\n",
       "Transit                          397\n",
       "Imaging                           38\n",
       "Microlensing                      23\n",
       "Eclipse Timing Variations          9\n",
       "Pulsar Timing                      5\n",
       "Transit Timing Variations          4\n",
       "Orbital Brightness Modulation      3\n",
       "Astrometry                         2\n",
       "Pulsation Timing Variations        1\n",
       "Name: method, dtype: int64"
      ]
     },
     "execution_count": 61,
     "metadata": {},
     "output_type": "execute_result"
    }
   ],
   "source": [
    "planet['method'].value_counts()"
   ]
  },
  {
   "cell_type": "markdown",
   "id": "69b152ef",
   "metadata": {},
   "source": [
    "## Label Encoding "
   ]
  },
  {
   "cell_type": "code",
   "execution_count": 62,
   "id": "d2229446",
   "metadata": {},
   "outputs": [
    {
     "data": {
      "text/html": [
       "<div>\n",
       "<style scoped>\n",
       "    .dataframe tbody tr th:only-of-type {\n",
       "        vertical-align: middle;\n",
       "    }\n",
       "\n",
       "    .dataframe tbody tr th {\n",
       "        vertical-align: top;\n",
       "    }\n",
       "\n",
       "    .dataframe thead th {\n",
       "        text-align: right;\n",
       "    }\n",
       "</style>\n",
       "<table border=\"1\" class=\"dataframe\">\n",
       "  <thead>\n",
       "    <tr style=\"text-align: right;\">\n",
       "      <th></th>\n",
       "      <th>method</th>\n",
       "      <th>number</th>\n",
       "      <th>orbital_period</th>\n",
       "      <th>mass</th>\n",
       "      <th>distance</th>\n",
       "      <th>year</th>\n",
       "    </tr>\n",
       "  </thead>\n",
       "  <tbody>\n",
       "    <tr>\n",
       "      <th>0</th>\n",
       "      <td>7</td>\n",
       "      <td>1</td>\n",
       "      <td>269.300000</td>\n",
       "      <td>7.10</td>\n",
       "      <td>77.40</td>\n",
       "      <td>2006</td>\n",
       "    </tr>\n",
       "    <tr>\n",
       "      <th>1</th>\n",
       "      <td>7</td>\n",
       "      <td>1</td>\n",
       "      <td>874.774000</td>\n",
       "      <td>2.21</td>\n",
       "      <td>56.95</td>\n",
       "      <td>2008</td>\n",
       "    </tr>\n",
       "    <tr>\n",
       "      <th>2</th>\n",
       "      <td>7</td>\n",
       "      <td>1</td>\n",
       "      <td>763.000000</td>\n",
       "      <td>2.60</td>\n",
       "      <td>19.84</td>\n",
       "      <td>2011</td>\n",
       "    </tr>\n",
       "    <tr>\n",
       "      <th>3</th>\n",
       "      <td>7</td>\n",
       "      <td>1</td>\n",
       "      <td>326.030000</td>\n",
       "      <td>19.40</td>\n",
       "      <td>110.62</td>\n",
       "      <td>2007</td>\n",
       "    </tr>\n",
       "    <tr>\n",
       "      <th>4</th>\n",
       "      <td>7</td>\n",
       "      <td>1</td>\n",
       "      <td>516.220000</td>\n",
       "      <td>10.50</td>\n",
       "      <td>119.47</td>\n",
       "      <td>2009</td>\n",
       "    </tr>\n",
       "    <tr>\n",
       "      <th>...</th>\n",
       "      <td>...</td>\n",
       "      <td>...</td>\n",
       "      <td>...</td>\n",
       "      <td>...</td>\n",
       "      <td>...</td>\n",
       "      <td>...</td>\n",
       "    </tr>\n",
       "    <tr>\n",
       "      <th>1030</th>\n",
       "      <td>8</td>\n",
       "      <td>1</td>\n",
       "      <td>3.941507</td>\n",
       "      <td>NaN</td>\n",
       "      <td>172.00</td>\n",
       "      <td>2006</td>\n",
       "    </tr>\n",
       "    <tr>\n",
       "      <th>1031</th>\n",
       "      <td>8</td>\n",
       "      <td>1</td>\n",
       "      <td>2.615864</td>\n",
       "      <td>NaN</td>\n",
       "      <td>148.00</td>\n",
       "      <td>2007</td>\n",
       "    </tr>\n",
       "    <tr>\n",
       "      <th>1032</th>\n",
       "      <td>8</td>\n",
       "      <td>1</td>\n",
       "      <td>3.191524</td>\n",
       "      <td>NaN</td>\n",
       "      <td>174.00</td>\n",
       "      <td>2007</td>\n",
       "    </tr>\n",
       "    <tr>\n",
       "      <th>1033</th>\n",
       "      <td>8</td>\n",
       "      <td>1</td>\n",
       "      <td>4.125083</td>\n",
       "      <td>NaN</td>\n",
       "      <td>293.00</td>\n",
       "      <td>2008</td>\n",
       "    </tr>\n",
       "    <tr>\n",
       "      <th>1034</th>\n",
       "      <td>8</td>\n",
       "      <td>1</td>\n",
       "      <td>4.187757</td>\n",
       "      <td>NaN</td>\n",
       "      <td>260.00</td>\n",
       "      <td>2008</td>\n",
       "    </tr>\n",
       "  </tbody>\n",
       "</table>\n",
       "<p>1035 rows × 6 columns</p>\n",
       "</div>"
      ],
      "text/plain": [
       "      method  number  orbital_period   mass  distance  year\n",
       "0          7       1      269.300000   7.10     77.40  2006\n",
       "1          7       1      874.774000   2.21     56.95  2008\n",
       "2          7       1      763.000000   2.60     19.84  2011\n",
       "3          7       1      326.030000  19.40    110.62  2007\n",
       "4          7       1      516.220000  10.50    119.47  2009\n",
       "...      ...     ...             ...    ...       ...   ...\n",
       "1030       8       1        3.941507    NaN    172.00  2006\n",
       "1031       8       1        2.615864    NaN    148.00  2007\n",
       "1032       8       1        3.191524    NaN    174.00  2007\n",
       "1033       8       1        4.125083    NaN    293.00  2008\n",
       "1034       8       1        4.187757    NaN    260.00  2008\n",
       "\n",
       "[1035 rows x 6 columns]"
      ]
     },
     "execution_count": 62,
     "metadata": {},
     "output_type": "execute_result"
    }
   ],
   "source": [
    "planet['method'] = pd.Categorical(planet['method']).codes\n",
    "planet   "
   ]
  },
  {
   "cell_type": "code",
   "execution_count": 63,
   "id": "47457414",
   "metadata": {},
   "outputs": [
    {
     "data": {
      "text/plain": [
       "method              0\n",
       "number              0\n",
       "orbital_period     43\n",
       "mass              522\n",
       "distance          227\n",
       "year                0\n",
       "dtype: int64"
      ]
     },
     "execution_count": 63,
     "metadata": {},
     "output_type": "execute_result"
    }
   ],
   "source": [
    "planet.isnull().sum()"
   ]
  },
  {
   "cell_type": "markdown",
   "id": "03b70a5b",
   "metadata": {},
   "source": [
    "Case1:\n",
    "    can replace all three (orbital_period,mass,distance) null values with their mean values\n",
    "    \n",
    "Case2:\n",
    "    can replace both (mass,distance) null values with mean values as orbital_period has only 24 null values, we can drop them."
   ]
  },
  {
   "cell_type": "code",
   "execution_count": 64,
   "id": "398cbd6b",
   "metadata": {},
   "outputs": [
    {
     "data": {
      "text/html": [
       "<div>\n",
       "<style scoped>\n",
       "    .dataframe tbody tr th:only-of-type {\n",
       "        vertical-align: middle;\n",
       "    }\n",
       "\n",
       "    .dataframe tbody tr th {\n",
       "        vertical-align: top;\n",
       "    }\n",
       "\n",
       "    .dataframe thead th {\n",
       "        text-align: right;\n",
       "    }\n",
       "</style>\n",
       "<table border=\"1\" class=\"dataframe\">\n",
       "  <thead>\n",
       "    <tr style=\"text-align: right;\">\n",
       "      <th></th>\n",
       "      <th>method</th>\n",
       "      <th>number</th>\n",
       "      <th>orbital_period</th>\n",
       "      <th>mass</th>\n",
       "      <th>distance</th>\n",
       "      <th>year</th>\n",
       "    </tr>\n",
       "  </thead>\n",
       "  <tbody>\n",
       "    <tr>\n",
       "      <th>count</th>\n",
       "      <td>1035.000000</td>\n",
       "      <td>1035.000000</td>\n",
       "      <td>992.000000</td>\n",
       "      <td>513.000000</td>\n",
       "      <td>808.000000</td>\n",
       "      <td>1035.000000</td>\n",
       "    </tr>\n",
       "    <tr>\n",
       "      <th>mean</th>\n",
       "      <td>7.033816</td>\n",
       "      <td>1.785507</td>\n",
       "      <td>2002.917596</td>\n",
       "      <td>2.638161</td>\n",
       "      <td>264.069282</td>\n",
       "      <td>2009.070531</td>\n",
       "    </tr>\n",
       "    <tr>\n",
       "      <th>std</th>\n",
       "      <td>1.458589</td>\n",
       "      <td>1.240976</td>\n",
       "      <td>26014.728304</td>\n",
       "      <td>3.818617</td>\n",
       "      <td>733.116493</td>\n",
       "      <td>3.972567</td>\n",
       "    </tr>\n",
       "    <tr>\n",
       "      <th>min</th>\n",
       "      <td>0.000000</td>\n",
       "      <td>1.000000</td>\n",
       "      <td>0.090706</td>\n",
       "      <td>0.003600</td>\n",
       "      <td>1.350000</td>\n",
       "      <td>1989.000000</td>\n",
       "    </tr>\n",
       "    <tr>\n",
       "      <th>25%</th>\n",
       "      <td>7.000000</td>\n",
       "      <td>1.000000</td>\n",
       "      <td>5.442540</td>\n",
       "      <td>0.229000</td>\n",
       "      <td>32.560000</td>\n",
       "      <td>2007.000000</td>\n",
       "    </tr>\n",
       "    <tr>\n",
       "      <th>50%</th>\n",
       "      <td>7.000000</td>\n",
       "      <td>1.000000</td>\n",
       "      <td>39.979500</td>\n",
       "      <td>1.260000</td>\n",
       "      <td>55.250000</td>\n",
       "      <td>2010.000000</td>\n",
       "    </tr>\n",
       "    <tr>\n",
       "      <th>75%</th>\n",
       "      <td>8.000000</td>\n",
       "      <td>2.000000</td>\n",
       "      <td>526.005000</td>\n",
       "      <td>3.040000</td>\n",
       "      <td>178.500000</td>\n",
       "      <td>2012.000000</td>\n",
       "    </tr>\n",
       "    <tr>\n",
       "      <th>max</th>\n",
       "      <td>9.000000</td>\n",
       "      <td>7.000000</td>\n",
       "      <td>730000.000000</td>\n",
       "      <td>25.000000</td>\n",
       "      <td>8500.000000</td>\n",
       "      <td>2014.000000</td>\n",
       "    </tr>\n",
       "  </tbody>\n",
       "</table>\n",
       "</div>"
      ],
      "text/plain": [
       "            method       number  orbital_period        mass     distance  \\\n",
       "count  1035.000000  1035.000000      992.000000  513.000000   808.000000   \n",
       "mean      7.033816     1.785507     2002.917596    2.638161   264.069282   \n",
       "std       1.458589     1.240976    26014.728304    3.818617   733.116493   \n",
       "min       0.000000     1.000000        0.090706    0.003600     1.350000   \n",
       "25%       7.000000     1.000000        5.442540    0.229000    32.560000   \n",
       "50%       7.000000     1.000000       39.979500    1.260000    55.250000   \n",
       "75%       8.000000     2.000000      526.005000    3.040000   178.500000   \n",
       "max       9.000000     7.000000   730000.000000   25.000000  8500.000000   \n",
       "\n",
       "              year  \n",
       "count  1035.000000  \n",
       "mean   2009.070531  \n",
       "std       3.972567  \n",
       "min    1989.000000  \n",
       "25%    2007.000000  \n",
       "50%    2010.000000  \n",
       "75%    2012.000000  \n",
       "max    2014.000000  "
      ]
     },
     "execution_count": 64,
     "metadata": {},
     "output_type": "execute_result"
    }
   ],
   "source": [
    "### Since there are lot of null vaues in mass, we can replace those, as we cannot delete /drop that column.\n",
    "## let us find the average of that column and replace the null value with avg value.\n",
    "\n",
    "planet.describe()"
   ]
  },
  {
   "cell_type": "code",
   "execution_count": 71,
   "id": "1bd5b769",
   "metadata": {},
   "outputs": [],
   "source": [
    "## Going with case1\n",
    "planet[\"orbital_period\"].fillna((planet['orbital_period'].mean()), inplace = True)\n",
    "planet[\"mass\"].fillna((planet['mass'].mean()), inplace = True)\n",
    "planet[\"distance\"].fillna((planet['distance'].mean()), inplace = True)"
   ]
  },
  {
   "cell_type": "code",
   "execution_count": 72,
   "id": "39f21076",
   "metadata": {},
   "outputs": [
    {
     "data": {
      "text/plain": [
       "1    595\n",
       "2    259\n",
       "3     88\n",
       "4     32\n",
       "5     30\n",
       "6     24\n",
       "7      7\n",
       "Name: number, dtype: int64"
      ]
     },
     "execution_count": 72,
     "metadata": {},
     "output_type": "execute_result"
    }
   ],
   "source": [
    "planet['number'].value_counts()"
   ]
  },
  {
   "cell_type": "code",
   "execution_count": 73,
   "id": "082ac351",
   "metadata": {},
   "outputs": [
    {
     "data": {
      "text/plain": [
       "method            0\n",
       "number            0\n",
       "orbital_period    0\n",
       "mass              0\n",
       "distance          0\n",
       "year              0\n",
       "dtype: int64"
      ]
     },
     "execution_count": 73,
     "metadata": {},
     "output_type": "execute_result"
    }
   ],
   "source": [
    "planet.isnull().sum()"
   ]
  },
  {
   "cell_type": "markdown",
   "id": "98625974",
   "metadata": {},
   "source": [
    "###### Cleared all null values."
   ]
  },
  {
   "cell_type": "markdown",
   "id": "60becbb5",
   "metadata": {},
   "source": [
    "## Outliers Treatment"
   ]
  },
  {
   "cell_type": "code",
   "execution_count": 74,
   "id": "5acfad25",
   "metadata": {},
   "outputs": [
    {
     "data": {
      "text/plain": [
       "<Axes: >"
      ]
     },
     "execution_count": 74,
     "metadata": {},
     "output_type": "execute_result"
    },
    {
     "data": {
      "image/png": "[encoded data removed]",
      "text/plain": [
       "<Figure size 640x480 with 1 Axes>"
      ]
     },
     "metadata": {},
     "output_type": "display_data"
    }
   ],
   "source": [
    "planet.boxplot()"
   ]
  },
  {
   "cell_type": "markdown",
   "id": "77603562",
   "metadata": {},
   "source": [
    "### Finding the boundary values"
   ]
  },
  {
   "cell_type": "code",
   "execution_count": null,
   "id": "55b782e7",
   "metadata": {},
   "outputs": [],
   "source": [
    "print(\"Highest allowed\",planet[\"orbital_period\"].mean() + 3*planet[\"orbital_period\"].std())\n",
    "print(\"Lowest allowed\",planet[\"orbital_period\"].mean() - 3*planet[\"orbital_period\"].std())"
   ]
  },
  {
   "cell_type": "markdown",
   "id": "ae2aa8fa",
   "metadata": {},
   "source": [
    "###  Finding the outliers"
   ]
  },
  {
   "cell_type": "code",
   "execution_count": null,
   "id": "fae531b5",
   "metadata": {},
   "outputs": [],
   "source": [
    "planet[(planet[\"orbital_period\"] > 78407.09) | (planet[\"orbital_period\"] < -74401.26)]"
   ]
  },
  {
   "cell_type": "markdown",
   "id": "24c75afb",
   "metadata": {},
   "source": [
    "### Trimming of outliers"
   ]
  },
  {
   "cell_type": "code",
   "execution_count": null,
   "id": "3c7181fe",
   "metadata": {},
   "outputs": [],
   "source": [
    "pl = planet[(planet[\"orbital_period\"] < 78407.09) & (planet[\"orbital_period\"] > -74401.26)]\n",
    "pl"
   ]
  },
  {
   "cell_type": "code",
   "execution_count": null,
   "id": "60e230de",
   "metadata": {},
   "outputs": [],
   "source": [
    "pl.isnull().sum()"
   ]
  },
  {
   "cell_type": "code",
   "execution_count": null,
   "id": "11f617ce",
   "metadata": {},
   "outputs": [],
   "source": [
    "pl.boxplot()"
   ]
  },
  {
   "cell_type": "code",
   "execution_count": null,
   "id": "4fd39f8b",
   "metadata": {},
   "outputs": [],
   "source": [
    "sns.boxplot(planet['orbital_period'])"
   ]
  },
  {
   "cell_type": "code",
   "execution_count": null,
   "id": "bf7ea2f7",
   "metadata": {},
   "outputs": [],
   "source": [
    "upper_limit = planet['orbital_period'].quantile(0.99)\n",
    "lower_limit = planet['orbital_period'].quantile(0.01)\n",
    "print(upper_limit)\n",
    "print(lower_limit)"
   ]
  },
  {
   "cell_type": "code",
   "execution_count": null,
   "id": "31a40977",
   "metadata": {},
   "outputs": [],
   "source": [
    "new_df = planet[(planet['orbital_period'] <= 10157.94) & (planet['orbital_period'] >= 0.84)]\n",
    "new_df"
   ]
  },
  {
   "cell_type": "code",
   "execution_count": null,
   "id": "326974d5",
   "metadata": {},
   "outputs": [],
   "source": [
    "sns.distplot(new_df['orbital_period'])\n",
    "sns.boxplot(new_df['orbital_period'])"
   ]
  },
  {
   "cell_type": "code",
   "execution_count": null,
   "id": "5909d533",
   "metadata": {},
   "outputs": [],
   "source": [
    "planet['orbital_period'] = np.where(planet['orbital_period'] >= upper_limit,\n",
    "        upper_limit,\n",
    "        np.where(planet['orbital_period'] <= lower_limit,\n",
    "        lower_limit,\n",
    "        planet['orbital_period']))"
   ]
  },
  {
   "cell_type": "code",
   "execution_count": null,
   "id": "1cb4a72a",
   "metadata": {},
   "outputs": [],
   "source": [
    "sns.distplot(planet['orbital_period'])\n",
    "sns.boxplot(planet['orbital_period'])"
   ]
  },
  {
   "cell_type": "markdown",
   "id": "01bc6f6b",
   "metadata": {},
   "source": [
    "##  Splitting the independent and dependent variablese"
   ]
  },
  {
   "cell_type": "code",
   "execution_count": null,
   "id": "db80ac26",
   "metadata": {},
   "outputs": [],
   "source": [
    "x = planet.drop('method', axis = 1) #Independent variables\n",
    "x"
   ]
  },
  {
   "cell_type": "code",
   "execution_count": null,
   "id": "95cbd3b8",
   "metadata": {},
   "outputs": [],
   "source": [
    "y = planet['method'] #Dependent variable\n",
    "y"
   ]
  },
  {
   "cell_type": "markdown",
   "id": "9623f0b4",
   "metadata": {},
   "source": [
    "##  Scaling the independent variables "
   ]
  },
  {
   "cell_type": "code",
   "execution_count": null,
   "id": "7f454b1c",
   "metadata": {},
   "outputs": [],
   "source": [
    "from sklearn.preprocessing import StandardScaler"
   ]
  },
  {
   "cell_type": "code",
   "execution_count": null,
   "id": "658a0bd8",
   "metadata": {},
   "outputs": [],
   "source": [
    "sc = StandardScaler()"
   ]
  },
  {
   "cell_type": "code",
   "execution_count": null,
   "id": "88cb6e2d",
   "metadata": {},
   "outputs": [],
   "source": [
    "x_sc = sc.fit_transform(x)"
   ]
  },
  {
   "cell_type": "code",
   "execution_count": null,
   "id": "07d58178",
   "metadata": {},
   "outputs": [],
   "source": [
    "x_sc = pd.DataFrame(x_sc, columns=x.columns)"
   ]
  },
  {
   "cell_type": "code",
   "execution_count": null,
   "id": "7c0ea0fc",
   "metadata": {},
   "outputs": [],
   "source": [
    "x_sc.head(5)"
   ]
  },
  {
   "cell_type": "code",
   "execution_count": null,
   "id": "0661818d",
   "metadata": {},
   "outputs": [],
   "source": [
    "x_sc.describe()"
   ]
  },
  {
   "cell_type": "markdown",
   "id": "349387d6",
   "metadata": {},
   "source": [
    "## Splitting the training and testing data "
   ]
  },
  {
   "cell_type": "code",
   "execution_count": null,
   "id": "d23c0cbd",
   "metadata": {},
   "outputs": [],
   "source": [
    "from sklearn.model_selection import train_test_split"
   ]
  },
  {
   "cell_type": "code",
   "execution_count": null,
   "id": "27395298",
   "metadata": {},
   "outputs": [],
   "source": [
    "xtrain, xtest, ytrain, ytest = train_test_split(x_sc, y, test_size=0.2)"
   ]
  },
  {
   "cell_type": "code",
   "execution_count": null,
   "id": "53881d2c",
   "metadata": {},
   "outputs": [],
   "source": [
    "xtrain.shape, xtest.shape, ytrain.shape, ytest.shape"
   ]
  },
  {
   "cell_type": "markdown",
   "id": "8eacdbc4",
   "metadata": {},
   "source": [
    "# 1.2  Logical Regression as Classifier"
   ]
  },
  {
   "cell_type": "markdown",
   "id": "493fe342",
   "metadata": {},
   "source": [
    "### Logical Regression as Classifier"
   ]
  },
  {
   "cell_type": "code",
   "execution_count": null,
   "id": "cb233ed3",
   "metadata": {},
   "outputs": [],
   "source": [
    "from sklearn.linear_model import LogisticRegression"
   ]
  },
  {
   "cell_type": "code",
   "execution_count": null,
   "id": "1b5a603a",
   "metadata": {},
   "outputs": [],
   "source": [
    "log = LogisticRegression()"
   ]
  },
  {
   "cell_type": "code",
   "execution_count": null,
   "id": "8d5edb1d",
   "metadata": {},
   "outputs": [],
   "source": [
    "model = log.fit(xtrain, ytrain)"
   ]
  },
  {
   "cell_type": "code",
   "execution_count": null,
   "id": "38a298e7",
   "metadata": {},
   "outputs": [],
   "source": [
    "log_train_pred = model.predict(xtrain)\n",
    "log_train_pred"
   ]
  },
  {
   "cell_type": "code",
   "execution_count": null,
   "id": "838e4ad3",
   "metadata": {},
   "outputs": [],
   "source": [
    "log_test_pred = model.predict(xtest)"
   ]
  },
  {
   "cell_type": "code",
   "execution_count": null,
   "id": "4979a2ef",
   "metadata": {},
   "outputs": [],
   "source": [
    "log_test_pred"
   ]
  },
  {
   "cell_type": "markdown",
   "id": "ab30ad09",
   "metadata": {},
   "source": [
    "##  1.2.1 Performance Metrics"
   ]
  },
  {
   "cell_type": "code",
   "execution_count": null,
   "id": "58a5012f",
   "metadata": {},
   "outputs": [],
   "source": [
    "from sklearn.metrics import accuracy_score, classification_report, confusion_matrix"
   ]
  },
  {
   "cell_type": "markdown",
   "id": "33712cdd",
   "metadata": {},
   "source": [
    "### 1.2.1.1 Accuracy Score "
   ]
  },
  {
   "cell_type": "code",
   "execution_count": null,
   "id": "b0b83179",
   "metadata": {},
   "outputs": [],
   "source": [
    "print(\"Logistic Regression Training - Accuracy Score: \",accuracy_score(ytrain, log_train_pred))"
   ]
  },
  {
   "cell_type": "code",
   "execution_count": null,
   "id": "f32460c9",
   "metadata": {},
   "outputs": [],
   "source": [
    "print(\"Logistic Regression Testing - Accuracy Score: \",accuracy_score(ytest, log_test_pred))"
   ]
  },
  {
   "cell_type": "markdown",
   "id": "e20e2ccd",
   "metadata": {},
   "source": [
    "The model performed with a 89 % accuracy during the training phase. However, the accuracy has increased to 90% during the testing phase. This is a sign of underfitting. "
   ]
  },
  {
   "cell_type": "markdown",
   "id": "6ae79cd4",
   "metadata": {},
   "source": [
    "### 1.2.1.2 Classification Report"
   ]
  },
  {
   "cell_type": "code",
   "execution_count": null,
   "id": "d237dcc6",
   "metadata": {},
   "outputs": [],
   "source": [
    "log_train_cr = classification_report(ytrain, log_train_pred)"
   ]
  },
  {
   "cell_type": "code",
   "execution_count": null,
   "id": "1e7a7673",
   "metadata": {},
   "outputs": [],
   "source": [
    "print(\"Logistic Regression Training - Classification Report \\n\\n\", log_train_cr)"
   ]
  },
  {
   "cell_type": "code",
   "execution_count": null,
   "id": "549fc0d0",
   "metadata": {},
   "outputs": [],
   "source": [
    "log_test_cr = classification_report(ytest, log_test_pred)"
   ]
  },
  {
   "cell_type": "code",
   "execution_count": null,
   "id": "cff1e4ca",
   "metadata": {},
   "outputs": [],
   "source": [
    "print(\"Logistic Regression Testing - Classification Report \\n\\n\", log_test_cr)"
   ]
  },
  {
   "cell_type": "markdown",
   "id": "085b4587",
   "metadata": {},
   "source": [
    "### 1.2.1.3 Confusion Matrix"
   ]
  },
  {
   "cell_type": "code",
   "execution_count": null,
   "id": "9714105a",
   "metadata": {},
   "outputs": [],
   "source": [
    "log_train_cm = confusion_matrix(ytrain, log_train_pred)"
   ]
  },
  {
   "cell_type": "code",
   "execution_count": null,
   "id": "572172d0",
   "metadata": {},
   "outputs": [],
   "source": [
    "print(\"Logistic Regression Training - Confusion Matrix \\n\", log_train_cm)"
   ]
  },
  {
   "cell_type": "code",
   "execution_count": null,
   "id": "8bcf7440",
   "metadata": {},
   "outputs": [],
   "source": [
    "sns.heatmap(log_train_cm, annot=True, cmap = 'Spectral')\n",
    "plt.xlabel('Prediction')\n",
    "plt.ylabel('Target')\n",
    "plt.title('Logistic Regression Training - Confusion Matrix')\n",
    "plt.show()"
   ]
  },
  {
   "cell_type": "code",
   "execution_count": null,
   "id": "67f93594",
   "metadata": {},
   "outputs": [],
   "source": [
    "log_test_cm = confusion_matrix(ytest, log_test_pred)"
   ]
  },
  {
   "cell_type": "code",
   "execution_count": null,
   "id": "7aed7693",
   "metadata": {},
   "outputs": [],
   "source": [
    "print(\"Logistic Regression Testing - Confusion Matrix \\n\", log_test_cm)"
   ]
  },
  {
   "cell_type": "code",
   "execution_count": null,
   "id": "f9a96379",
   "metadata": {},
   "outputs": [],
   "source": [
    "sns.heatmap(log_test_cm, annot=True, cmap = 'Spectral')\n",
    "plt.xlabel('Prediction')\n",
    "plt.ylabel('Target')\n",
    "plt.title('Logistic Regression Testing - Confusion Matrix')\n",
    "plt.show()"
   ]
  },
  {
   "cell_type": "markdown",
   "id": "5618181e",
   "metadata": {},
   "source": [
    "#### ____________________\n",
    "# 2 CLASSIFICATION ALGORITHM\n",
    "#### ____________________"
   ]
  },
  {
   "cell_type": "markdown",
   "id": "1756b258",
   "metadata": {},
   "source": [
    "# 2.1 Decision Tree Classifier  \n"
   ]
  },
  {
   "cell_type": "code",
   "execution_count": null,
   "id": "c7f20653",
   "metadata": {},
   "outputs": [],
   "source": [
    "from sklearn.tree import DecisionTreeClassifier"
   ]
  },
  {
   "cell_type": "code",
   "execution_count": null,
   "id": "809f7ef8",
   "metadata": {},
   "outputs": [],
   "source": [
    "dt = DecisionTreeClassifier()"
   ]
  },
  {
   "cell_type": "code",
   "execution_count": null,
   "id": "37cdf83d",
   "metadata": {},
   "outputs": [],
   "source": [
    "dt_mod = dt.fit(xtrain, ytrain)"
   ]
  },
  {
   "cell_type": "code",
   "execution_count": null,
   "id": "8156bc1d",
   "metadata": {},
   "outputs": [],
   "source": [
    "dt_train_pred = dt_mod.predict(xtrain)"
   ]
  },
  {
   "cell_type": "code",
   "execution_count": null,
   "id": "3d8b862a",
   "metadata": {},
   "outputs": [],
   "source": [
    "dt_train_pred"
   ]
  },
  {
   "cell_type": "code",
   "execution_count": null,
   "id": "a2134552",
   "metadata": {},
   "outputs": [],
   "source": [
    "dt_test_pred = dt_mod.predict(xtest)"
   ]
  },
  {
   "cell_type": "code",
   "execution_count": null,
   "id": "ce7ec5d1",
   "metadata": {},
   "outputs": [],
   "source": [
    "dt_test_pred"
   ]
  },
  {
   "cell_type": "code",
   "execution_count": null,
   "id": "31d32f7f",
   "metadata": {},
   "outputs": [],
   "source": [
    "from sklearn import tree\n",
    "tree.plot_tree(dt_mod)"
   ]
  },
  {
   "cell_type": "markdown",
   "id": "d6835a47",
   "metadata": {},
   "source": [
    "## 2.1.1 Performance Metrics "
   ]
  },
  {
   "cell_type": "markdown",
   "id": "e85c0e30",
   "metadata": {},
   "source": [
    "### 2.1.1.1 Accuracy Score"
   ]
  },
  {
   "cell_type": "code",
   "execution_count": null,
   "id": "35e3f3cf",
   "metadata": {},
   "outputs": [],
   "source": [
    "print(\"Decision Tree Training - Accuracy Score: \",accuracy_score(ytrain, dt_train_pred))"
   ]
  },
  {
   "cell_type": "code",
   "execution_count": null,
   "id": "648019f9",
   "metadata": {},
   "outputs": [],
   "source": [
    "print(\"Decision Tree Testing - Accuracy Score: \",accuracy_score(ytest, dt_test_pred))"
   ]
  },
  {
   "cell_type": "markdown",
   "id": "0d2a9a75",
   "metadata": {},
   "source": [
    "The model performed with a 99 % accuracy during the training phase. However, the accuracy has come way down to 91% during the testing phase. This is a sign of overfitting. "
   ]
  },
  {
   "cell_type": "markdown",
   "id": "6d540fdd",
   "metadata": {},
   "source": [
    "### 2.1.1.2 Classification Report"
   ]
  },
  {
   "cell_type": "code",
   "execution_count": null,
   "id": "090eb0e2",
   "metadata": {},
   "outputs": [],
   "source": [
    "dt_train_cr = classification_report(ytrain, dt_train_pred)\n",
    "print(\"Logistic Regression Training - Classification Report \\n\\n\", dt_train_cr)"
   ]
  },
  {
   "cell_type": "code",
   "execution_count": null,
   "id": "1ac28436",
   "metadata": {},
   "outputs": [],
   "source": [
    "dt_test_cr = classification_report(ytest, dt_test_pred)\n",
    "print(\"Decision Tree Testing - Classification Report \\n\\n\", dt_test_cr)"
   ]
  },
  {
   "cell_type": "markdown",
   "id": "451a460c",
   "metadata": {},
   "source": [
    "### 2.1.1.3 Confusion Matrix"
   ]
  },
  {
   "cell_type": "code",
   "execution_count": null,
   "id": "bf27f4ca",
   "metadata": {},
   "outputs": [],
   "source": [
    "dt_train_cm = confusion_matrix(ytrain, dt_train_pred)\n",
    "print(\"Decision Tree Training - Confusion Matrix \\n\", dt_train_cm)"
   ]
  },
  {
   "cell_type": "code",
   "execution_count": null,
   "id": "97c8b740",
   "metadata": {},
   "outputs": [],
   "source": [
    "sns.heatmap(dt_train_cm, annot=True, cmap = 'Spectral')\n",
    "plt.xlabel('Prediction')\n",
    "plt.ylabel('Target')\n",
    "plt.title('Decision Tree Training - Confusion Matrix')\n",
    "plt.show()"
   ]
  },
  {
   "cell_type": "code",
   "execution_count": null,
   "id": "2aa43f66",
   "metadata": {},
   "outputs": [],
   "source": [
    "dt_test_cm = confusion_matrix(ytest, dt_test_pred)\n",
    "print(\"Logistic Regression Testing - Confusion Matrix \\n\", dt_test_cm)"
   ]
  },
  {
   "cell_type": "code",
   "execution_count": null,
   "id": "67fe272c",
   "metadata": {},
   "outputs": [],
   "source": [
    "sns.heatmap(dt_test_cm, annot=True, cmap = 'Spectral')\n",
    "plt.xlabel('Prediction')\n",
    "plt.ylabel('Target')\n",
    "plt.title('Decision Tree Testing - Confusion Matrix')\n",
    "plt.show()"
   ]
  },
  {
   "cell_type": "markdown",
   "id": "d9e6f1e2",
   "metadata": {},
   "source": [
    "## Hyperparameter tuning using Gridsearch CV "
   ]
  },
  {
   "cell_type": "code",
   "execution_count": null,
   "id": "de707edb",
   "metadata": {},
   "outputs": [],
   "source": [
    "param_dict = {\n",
    "    'criterion': ['gini', 'entropy'], \n",
    "    'max_depth': range(1,10), \n",
    "    'min_samples_split': range(1,10), \n",
    "    'min_samples_leaf': range(1,5)\n",
    "}"
   ]
  },
  {
   "cell_type": "code",
   "execution_count": null,
   "id": "e31ce781",
   "metadata": {},
   "outputs": [],
   "source": [
    "from sklearn.model_selection import GridSearchCV"
   ]
  },
  {
   "cell_type": "code",
   "execution_count": null,
   "id": "535ad03c",
   "metadata": {},
   "outputs": [],
   "source": [
    "grid = GridSearchCV(dt, param_grid = param_dict , cv = 10, verbose = 1, n_jobs=-1)\n",
    "grid.fit(xtrain, ytrain)"
   ]
  },
  {
   "cell_type": "code",
   "execution_count": null,
   "id": "75f69ee0",
   "metadata": {},
   "outputs": [],
   "source": [
    "grid.get_params"
   ]
  },
  {
   "cell_type": "code",
   "execution_count": null,
   "id": "4478dd19",
   "metadata": {},
   "outputs": [],
   "source": [
    "grid.best_params_"
   ]
  },
  {
   "cell_type": "code",
   "execution_count": null,
   "id": "5c75f68b",
   "metadata": {},
   "outputs": [],
   "source": [
    "grid.best_estimator_"
   ]
  },
  {
   "cell_type": "code",
   "execution_count": null,
   "id": "7ed7d6e5",
   "metadata": {},
   "outputs": [],
   "source": [
    "grid.best_score_"
   ]
  },
  {
   "cell_type": "markdown",
   "id": "0208dc88",
   "metadata": {},
   "source": [
    "## 2.1.2 Redefining the model "
   ]
  },
  {
   "cell_type": "code",
   "execution_count": null,
   "id": "9ef36d71",
   "metadata": {},
   "outputs": [],
   "source": [
    "grid_dt = DecisionTreeClassifier(criterion = 'gini', max_depth = 7, min_samples_leaf = 1, min_samples_split = 2)"
   ]
  },
  {
   "cell_type": "code",
   "execution_count": null,
   "id": "1aef446e",
   "metadata": {},
   "outputs": [],
   "source": [
    "grid_dt_mod = grid_dt.fit(xtrain,ytrain)"
   ]
  },
  {
   "cell_type": "code",
   "execution_count": null,
   "id": "27e1841b",
   "metadata": {},
   "outputs": [],
   "source": [
    "grid_dt_train_pred = grid_dt_mod.predict(xtrain)\n",
    "grid_dt_train_pred"
   ]
  },
  {
   "cell_type": "code",
   "execution_count": null,
   "id": "1db4b7ab",
   "metadata": {},
   "outputs": [],
   "source": [
    "grid_dt_test_pred = grid_dt_mod.predict(xtest)\n",
    "grid_dt_test_pred"
   ]
  },
  {
   "cell_type": "markdown",
   "id": "2c00d52e",
   "metadata": {},
   "source": [
    "### 2.1.2.1 Performance Metrics "
   ]
  },
  {
   "cell_type": "markdown",
   "id": "e30e4d57",
   "metadata": {},
   "source": [
    "#### 2.1.2.1.1 Accuracy Score"
   ]
  },
  {
   "cell_type": "code",
   "execution_count": null,
   "id": "83f576a7",
   "metadata": {},
   "outputs": [],
   "source": [
    "print(\"Decision Tree Training - Accuracy Score (After GridSearchCV): \",accuracy_score(ytrain, grid_dt_train_pred))"
   ]
  },
  {
   "cell_type": "code",
   "execution_count": null,
   "id": "991e391b",
   "metadata": {},
   "outputs": [],
   "source": [
    "print(\"Decision Tree Testing - Accuracy Score (After GridSearchCV): \",accuracy_score(ytest, grid_dt_test_pred))"
   ]
  },
  {
   "cell_type": "markdown",
   "id": "315bde42",
   "metadata": {},
   "source": [
    "The model performed with a 98 % accuracy during the training phase. However, the accuracy has come way down to 92% during the testing phase. This is a sign of overfitting."
   ]
  },
  {
   "cell_type": "markdown",
   "id": "3d98ba0c",
   "metadata": {},
   "source": [
    "#### 2.1.2.1.2 Classification Report"
   ]
  },
  {
   "cell_type": "code",
   "execution_count": null,
   "id": "755c1cf6",
   "metadata": {},
   "outputs": [],
   "source": [
    "\n",
    "grid_dt_train_cr = classification_report(ytrain, grid_dt_train_pred)\n",
    "print(\"Logistic Regression Training - Classification Report \\n\\n\", grid_dt_train_cr)\n"
   ]
  },
  {
   "cell_type": "code",
   "execution_count": null,
   "id": "c741422b",
   "metadata": {},
   "outputs": [],
   "source": [
    "grid_dt_test_cr = classification_report(ytest, grid_dt_test_pred)\n",
    "print(\"Logistic Regression Testing - Classification Report \\n\\n\", grid_dt_test_cr)"
   ]
  },
  {
   "cell_type": "markdown",
   "id": "c8226ce6",
   "metadata": {},
   "source": [
    "#### 2.1.2.1.3 Confusion Matrix"
   ]
  },
  {
   "cell_type": "code",
   "execution_count": null,
   "id": "4945724b",
   "metadata": {},
   "outputs": [],
   "source": [
    "grid_dt_train_cm = confusion_matrix(ytrain, grid_dt_train_pred)\n",
    "print(\"Decision Tree Training(GridSearch)- Confusion Matrix \\n\", grid_dt_train_cm)"
   ]
  },
  {
   "cell_type": "code",
   "execution_count": null,
   "id": "e93b0055",
   "metadata": {},
   "outputs": [],
   "source": [
    "sns.heatmap(grid_dt_train_cm, annot=True, cmap = 'Spectral')\n",
    "plt.xlabel('Prediction')\n",
    "plt.ylabel('Target')\n",
    "plt.title('Decision Tree Training(GridSearch) - Confusion Matrix')\n",
    "plt.show()"
   ]
  },
  {
   "cell_type": "code",
   "execution_count": null,
   "id": "15dea5b4",
   "metadata": {},
   "outputs": [],
   "source": [
    "grid_dt_test_cm = confusion_matrix(ytest, grid_dt_test_pred)\n",
    "print(\"Decision Tree Testing(GridSearch) - Confusion Matrix \\n\", grid_dt_test_cm)"
   ]
  },
  {
   "cell_type": "code",
   "execution_count": null,
   "id": "979f14b9",
   "metadata": {},
   "outputs": [],
   "source": [
    "sns.heatmap(grid_dt_test_cm, annot=True, cmap = 'Spectral')\n",
    "plt.xlabel('Prediction')\n",
    "plt.ylabel('Target')\n",
    "plt.title('Decision Tree Testing(GridSearch) - Confusion Matrix')\n",
    "plt.show()"
   ]
  },
  {
   "cell_type": "code",
   "execution_count": null,
   "id": "078301e5",
   "metadata": {},
   "outputs": [],
   "source": [
    "## As gini is suggested for best, but Iam going to try with entropy\n",
    "\n",
    "grid_dt = DecisionTreeClassifier(criterion = 'entropy', max_depth = 7, min_samples_leaf = 1, min_samples_split = 2)"
   ]
  },
  {
   "cell_type": "code",
   "execution_count": null,
   "id": "f8c291af",
   "metadata": {},
   "outputs": [],
   "source": [
    "grid_dt_mod = grid_dt.fit(xtrain,ytrain)"
   ]
  },
  {
   "cell_type": "code",
   "execution_count": null,
   "id": "6ecc9d9f",
   "metadata": {},
   "outputs": [],
   "source": [
    "grid_dt_train_pred = grid_dt_mod.predict(xtrain)\n",
    "grid_dt_train_pred"
   ]
  },
  {
   "cell_type": "code",
   "execution_count": null,
   "id": "10302883",
   "metadata": {},
   "outputs": [],
   "source": [
    "grid_dt_test_pred = grid_dt_mod.predict(xtest)\n",
    "grid_dt_test_pred"
   ]
  },
  {
   "cell_type": "markdown",
   "id": "f97cb119",
   "metadata": {},
   "source": [
    "## Performance Metrics "
   ]
  },
  {
   "cell_type": "markdown",
   "id": "54ae972c",
   "metadata": {},
   "source": [
    "### Accuracy Score"
   ]
  },
  {
   "cell_type": "code",
   "execution_count": null,
   "id": "bd6113d1",
   "metadata": {},
   "outputs": [],
   "source": [
    "print(\"Decision Tree Training - Accuracy Score (After GridSearchCV): \",accuracy_score(ytrain, grid_dt_train_pred))"
   ]
  },
  {
   "cell_type": "code",
   "execution_count": null,
   "id": "ba56502d",
   "metadata": {},
   "outputs": [],
   "source": [
    "print(\"Decision Tree Testing - Accuracy Score (After GridSearchCV): \",accuracy_score(ytest, grid_dt_test_pred))"
   ]
  },
  {
   "cell_type": "code",
   "execution_count": null,
   "id": "0a87b4e7",
   "metadata": {},
   "outputs": [],
   "source": [
    "### It remains same as we did for gini. Also another factor is we dint change any other values."
   ]
  },
  {
   "cell_type": "markdown",
   "id": "c8a00e7a",
   "metadata": {},
   "source": [
    "# 2.2 Building a Random Forest model"
   ]
  },
  {
   "cell_type": "code",
   "execution_count": null,
   "id": "e836f115",
   "metadata": {},
   "outputs": [],
   "source": [
    "from sklearn.ensemble import RandomForestClassifier"
   ]
  },
  {
   "cell_type": "code",
   "execution_count": null,
   "id": "4f5da51b",
   "metadata": {},
   "outputs": [],
   "source": [
    "rf = RandomForestClassifier()"
   ]
  },
  {
   "cell_type": "code",
   "execution_count": null,
   "id": "b25ded3f",
   "metadata": {},
   "outputs": [],
   "source": [
    "rf_mod = rf.fit(xtrain,ytrain)"
   ]
  },
  {
   "cell_type": "code",
   "execution_count": null,
   "id": "cf50dbf0",
   "metadata": {},
   "outputs": [],
   "source": [
    "rf_train_pred = rf_mod.predict(xtrain)"
   ]
  },
  {
   "cell_type": "code",
   "execution_count": null,
   "id": "1b3d2eef",
   "metadata": {},
   "outputs": [],
   "source": [
    "rf_train_pred"
   ]
  },
  {
   "cell_type": "code",
   "execution_count": null,
   "id": "700e1334",
   "metadata": {},
   "outputs": [],
   "source": [
    "rf_test_pred = rf_mod.predict(xtest)"
   ]
  },
  {
   "cell_type": "code",
   "execution_count": null,
   "id": "b54638ff",
   "metadata": {
    "scrolled": true
   },
   "outputs": [],
   "source": [
    "rf_test_pred"
   ]
  },
  {
   "cell_type": "markdown",
   "id": "b78c0381",
   "metadata": {},
   "source": [
    "## 2.2.1 Performance Metrics  "
   ]
  },
  {
   "cell_type": "markdown",
   "id": "77cabe24",
   "metadata": {},
   "source": [
    "### 2.2.1.1 Accuracy Score "
   ]
  },
  {
   "cell_type": "code",
   "execution_count": null,
   "id": "9591304d",
   "metadata": {},
   "outputs": [],
   "source": [
    "print(\"Random Forest Training - Accuracy Score:\", accuracy_score(ytrain, rf_train_pred))"
   ]
  },
  {
   "cell_type": "code",
   "execution_count": null,
   "id": "8ae2abf0",
   "metadata": {},
   "outputs": [],
   "source": [
    "print(\"Random Forest Testing - Accuracy Score:\", accuracy_score(ytest, rf_test_pred))"
   ]
  },
  {
   "cell_type": "markdown",
   "id": "13e9040f",
   "metadata": {},
   "source": [
    "The model performed with a 99 % accuracy during the training phase. However, the accuracy has come way down to 93% during the testing phase. This is a sign of overfitting. "
   ]
  },
  {
   "cell_type": "markdown",
   "id": "0ad2c2dd",
   "metadata": {},
   "source": [
    "### 2.2.1.2 Classification Report"
   ]
  },
  {
   "cell_type": "code",
   "execution_count": null,
   "id": "6482a283",
   "metadata": {},
   "outputs": [],
   "source": [
    "rf_train_cr = classification_report(ytrain, rf_train_pred)\n",
    "print(\"Random Forest Training- Classification Report: \\n\", rf_train_cr)"
   ]
  },
  {
   "cell_type": "code",
   "execution_count": null,
   "id": "ef86cfb6",
   "metadata": {},
   "outputs": [],
   "source": [
    "rf_test_cr = classification_report(ytest, rf_test_pred)\n",
    "print(\"Random Forest Testing - Classification Report : \\n\", rf_test_cr)"
   ]
  },
  {
   "cell_type": "markdown",
   "id": "b82a2afc",
   "metadata": {},
   "source": [
    "### 2.2.1 Confusion Matrix"
   ]
  },
  {
   "cell_type": "code",
   "execution_count": null,
   "id": "3042537f",
   "metadata": {},
   "outputs": [],
   "source": [
    "rf_train_cm = confusion_matrix(ytrain, rf_train_pred)\n",
    "print(\"Random Forest Training - Confusion Matrix \\n\", grid_dt_train_cm)"
   ]
  },
  {
   "cell_type": "code",
   "execution_count": null,
   "id": "386af4ce",
   "metadata": {},
   "outputs": [],
   "source": [
    "sns.heatmap(rf_train_cm, annot=True, cmap = 'Spectral')\n",
    "plt.xlabel('Prediction')\n",
    "plt.ylabel('Target')\n",
    "plt.title('Random Forest Training - Confusion Matrix ')\n",
    "plt.show()"
   ]
  },
  {
   "cell_type": "code",
   "execution_count": null,
   "id": "c16cea67",
   "metadata": {},
   "outputs": [],
   "source": [
    "rf_test_cm = confusion_matrix(ytest, rf_test_pred)\n",
    "print(\"Random Forest Testing - Confusion Matrix \\n\", rf_test_cm)"
   ]
  },
  {
   "cell_type": "code",
   "execution_count": null,
   "id": "6be0c988",
   "metadata": {},
   "outputs": [],
   "source": [
    "sns.heatmap(rf_test_cm, annot=True, cmap = 'Spectral')\n",
    "plt.xlabel('Prediction')\n",
    "plt.ylabel('Target')\n",
    "plt.title('Random Forest Testing - Confusion Matrix')\n",
    "plt.show()"
   ]
  },
  {
   "cell_type": "code",
   "execution_count": null,
   "id": "4dfc9329",
   "metadata": {},
   "outputs": [],
   "source": [
    "grid.fit(xtrain,ytrain)"
   ]
  },
  {
   "cell_type": "code",
   "execution_count": null,
   "id": "7b2a1e59",
   "metadata": {},
   "outputs": [],
   "source": [
    "grid.best_params_"
   ]
  },
  {
   "cell_type": "code",
   "execution_count": null,
   "id": "83385a8f",
   "metadata": {},
   "outputs": [],
   "source": [
    "grid.best_estimator_"
   ]
  },
  {
   "cell_type": "markdown",
   "id": "ae377a14",
   "metadata": {},
   "source": [
    "## 2.2.2 Redefining the model"
   ]
  },
  {
   "cell_type": "code",
   "execution_count": null,
   "id": "8c7f451c",
   "metadata": {},
   "outputs": [],
   "source": [
    "grid_rf = DecisionTreeClassifier(criterion='gini', max_depth=7, min_samples_leaf=1, min_samples_split=2)"
   ]
  },
  {
   "cell_type": "code",
   "execution_count": null,
   "id": "3832cd23",
   "metadata": {},
   "outputs": [],
   "source": [
    "grid_rf_mod = grid_rf.fit(xtrain, ytrain)"
   ]
  },
  {
   "cell_type": "code",
   "execution_count": null,
   "id": "360c2c83",
   "metadata": {},
   "outputs": [],
   "source": [
    "grid_rf_train_pred = grid_rf_mod.predict(xtrain)\n",
    "grid_rf_train_pred"
   ]
  },
  {
   "cell_type": "code",
   "execution_count": null,
   "id": "1c1522f7",
   "metadata": {},
   "outputs": [],
   "source": [
    "grid_rf_test_pred = grid_rf_mod.predict(xtest)\n",
    "grid_rf_test_pred"
   ]
  },
  {
   "cell_type": "markdown",
   "id": "90f75d28",
   "metadata": {},
   "source": [
    "### 2.2.2.1 Performance Metrics "
   ]
  },
  {
   "cell_type": "markdown",
   "id": "f0eecd0d",
   "metadata": {},
   "source": [
    "#### 2.2.2.1.1 Accuracy Score"
   ]
  },
  {
   "cell_type": "code",
   "execution_count": null,
   "id": "daeaa1d0",
   "metadata": {},
   "outputs": [],
   "source": [
    "print(\"Random Forest Training - Accuracy Score (After GridSearchCV): \",accuracy_score(ytrain, grid_rf_train_pred))"
   ]
  },
  {
   "cell_type": "code",
   "execution_count": null,
   "id": "40889799",
   "metadata": {},
   "outputs": [],
   "source": [
    "print(\"Random Forest Testing - Accuracy Score (After GridSearchCV): \",accuracy_score(ytest, grid_rf_test_pred))"
   ]
  },
  {
   "cell_type": "markdown",
   "id": "5446a672",
   "metadata": {},
   "source": [
    "The model performed with a 98 % accuracy during the training phase. However, the accuracy has come way down to 92% during the testing phase. This is a sign of overfitting."
   ]
  },
  {
   "cell_type": "markdown",
   "id": "ca4e2061",
   "metadata": {},
   "source": [
    "#### 2.2.2.1.2 Classification Report"
   ]
  },
  {
   "cell_type": "code",
   "execution_count": null,
   "id": "9a04b554",
   "metadata": {},
   "outputs": [],
   "source": [
    "grid_rf_train_cr = classification_report(ytrain, grid_rf_train_pred)\n",
    "print(\"Random Forest Tree Training - Classification Report (After GridSearchCV): \\n\", grid_rf_train_cr)"
   ]
  },
  {
   "cell_type": "code",
   "execution_count": null,
   "id": "5a776178",
   "metadata": {},
   "outputs": [],
   "source": [
    "grid_rf_test_cr = classification_report(ytest, grid_rf_test_pred)\n",
    "print(\"Random Forest Tree Testing - Classification Report (After GridSearchCV): \\n\", grid_rf_test_cr)"
   ]
  },
  {
   "cell_type": "markdown",
   "id": "af2a165e",
   "metadata": {},
   "source": [
    "#### 2.2.2.1.3 Confusion Matrix"
   ]
  },
  {
   "cell_type": "code",
   "execution_count": null,
   "id": "f741ebf0",
   "metadata": {},
   "outputs": [],
   "source": [
    "grid_rf_train_cm = confusion_matrix(ytrain, grid_rf_train_pred)\n",
    "print(\"Random Forest Tree Training - Confusion Matrix (After GridSearchCV)\\n\", grid_rf_train_cm)"
   ]
  },
  {
   "cell_type": "code",
   "execution_count": null,
   "id": "906e2d05",
   "metadata": {},
   "outputs": [],
   "source": [
    "sns.heatmap(grid_rf_train_cm, annot=True, cmap = 'Spectral')\n",
    "plt.xlabel('Prediction')\n",
    "plt.ylabel('Target')\n",
    "plt.title('Random Forest Training - Confusion Matrix (After GridSearchCV)')\n",
    "plt.show()"
   ]
  },
  {
   "cell_type": "code",
   "execution_count": null,
   "id": "29e195bc",
   "metadata": {},
   "outputs": [],
   "source": [
    "grid_rf_test_cm = confusion_matrix(ytest, grid_rf_test_pred)\n",
    "print(\"Random Forest Tree Testing - Confusion Matrix (After GridSearchCV)\\n\", grid_rf_test_cm)"
   ]
  },
  {
   "cell_type": "code",
   "execution_count": null,
   "id": "5b72f056",
   "metadata": {},
   "outputs": [],
   "source": [
    "sns.heatmap(grid_rf_test_cm, annot=True, cmap = 'Spectral')\n",
    "plt.xlabel('Prediction')\n",
    "plt.ylabel('Target')\n",
    "plt.title('Random Forest Tree Testing - Confusion Matrix (After GridSearchCV)')\n",
    "plt.show()"
   ]
  },
  {
   "cell_type": "markdown",
   "id": "677db387",
   "metadata": {},
   "source": [
    "# 2.3 Building KNN Model"
   ]
  },
  {
   "cell_type": "code",
   "execution_count": null,
   "id": "e5cc7d67",
   "metadata": {},
   "outputs": [],
   "source": [
    "from sklearn.neighbors import KNeighborsClassifier"
   ]
  },
  {
   "cell_type": "code",
   "execution_count": null,
   "id": "40f29fe5",
   "metadata": {},
   "outputs": [],
   "source": [
    "knn = KNeighborsClassifier(5)"
   ]
  },
  {
   "cell_type": "code",
   "execution_count": null,
   "id": "325d753e",
   "metadata": {},
   "outputs": [],
   "source": [
    "knn.n_neighbors"
   ]
  },
  {
   "cell_type": "code",
   "execution_count": null,
   "id": "2c42b83a",
   "metadata": {},
   "outputs": [],
   "source": [
    "knn_mod = knn.fit(xtrain,ytrain)"
   ]
  },
  {
   "cell_type": "code",
   "execution_count": null,
   "id": "80fc89ba",
   "metadata": {},
   "outputs": [],
   "source": [
    "knn_train_pred = knn_mod.predict(xtrain)\n",
    "knn_train_pred"
   ]
  },
  {
   "cell_type": "code",
   "execution_count": null,
   "id": "1e6e1ace",
   "metadata": {},
   "outputs": [],
   "source": [
    "knn_test_pred = knn_mod.predict(xtest)\n",
    "knn_test_pred"
   ]
  },
  {
   "cell_type": "markdown",
   "id": "fd298c5d",
   "metadata": {},
   "source": [
    "## 2.3.1 Performance Metrics  "
   ]
  },
  {
   "cell_type": "markdown",
   "id": "c289b5e0",
   "metadata": {},
   "source": [
    "### 2.3.1.1 Accuracy Metrics "
   ]
  },
  {
   "cell_type": "code",
   "execution_count": null,
   "id": "9524edb9",
   "metadata": {},
   "outputs": [],
   "source": [
    "print(\"KNN Training - Accuracy Score:\", accuracy_score(ytrain, knn_train_pred))"
   ]
  },
  {
   "cell_type": "code",
   "execution_count": null,
   "id": "ec5ba435",
   "metadata": {},
   "outputs": [],
   "source": [
    "print(\"KNN Testing - Accuracy Score:\", accuracy_score(ytest, knn_test_pred))"
   ]
  },
  {
   "cell_type": "markdown",
   "id": "45c2874f",
   "metadata": {},
   "source": [
    "The model performed with a 94 % accuracy during the training phase. However, the accuracy has come way down to 87% during the testing phase. This is a sign of overfitting. "
   ]
  },
  {
   "cell_type": "markdown",
   "id": "2b698bea",
   "metadata": {},
   "source": [
    "### 2.3.1.2 Classification Report"
   ]
  },
  {
   "cell_type": "code",
   "execution_count": null,
   "id": "98e4a1c5",
   "metadata": {},
   "outputs": [],
   "source": [
    "knn_train_cr = classification_report(ytrain, knn_train_pred)\n",
    "print(\"KNN Training - Classification Report : \\n\", knn_train_cr)"
   ]
  },
  {
   "cell_type": "code",
   "execution_count": null,
   "id": "fd60038e",
   "metadata": {},
   "outputs": [],
   "source": [
    "knn_test_cr = classification_report(ytest, knn_test_pred)\n",
    "print(\"KNN Testing - Classification Report : \\n\", knn_test_cr)"
   ]
  },
  {
   "cell_type": "markdown",
   "id": "3977b272",
   "metadata": {},
   "source": [
    "### 2.3.1.3 Confusion Matrix"
   ]
  },
  {
   "cell_type": "code",
   "execution_count": null,
   "id": "54c5a4c7",
   "metadata": {},
   "outputs": [],
   "source": [
    "knn_train_cm = confusion_matrix(ytrain, knn_train_pred)\n",
    "print(\"KNN Training - Confusion Matrix \\n\", knn_train_cm)"
   ]
  },
  {
   "cell_type": "code",
   "execution_count": null,
   "id": "b05c2f7b",
   "metadata": {},
   "outputs": [],
   "source": [
    "sns.heatmap(knn_train_cm, annot=True, cmap = 'Spectral')\n",
    "plt.xlabel('Prediction')\n",
    "plt.ylabel('Target')\n",
    "plt.title('KNN Training - Confusion Matrix ')\n",
    "plt.show()"
   ]
  },
  {
   "cell_type": "code",
   "execution_count": null,
   "id": "9f05f964",
   "metadata": {},
   "outputs": [],
   "source": [
    "knn_test_cm = confusion_matrix(ytest, knn_test_pred)\n",
    "print(\"KNN Testing - Confusion Matrix \\n\", knn_test_cm)"
   ]
  },
  {
   "cell_type": "code",
   "execution_count": null,
   "id": "90d2a6dc",
   "metadata": {},
   "outputs": [],
   "source": [
    "sns.heatmap(knn_test_cm, annot=True, cmap = 'Spectral')\n",
    "plt.xlabel('Prediction')\n",
    "plt.ylabel('Target')\n",
    "plt.title('KNN Testing - Confusion Matrix ')\n",
    "plt.show()"
   ]
  },
  {
   "cell_type": "markdown",
   "id": "79d45774",
   "metadata": {},
   "source": [
    "## 2.5.2 Finding the optimal value of K"
   ]
  },
  {
   "cell_type": "code",
   "execution_count": null,
   "id": "ecf39a79",
   "metadata": {},
   "outputs": [],
   "source": [
    "k_range = range(1, 100)\n",
    "weight_options = ['uniform', 'distance']\n",
    "\n",
    "param_grid = dict(n_neighbors = k_range, weights = weight_options)\n",
    "\n",
    "grid_knn = GridSearchCV(knn_mod, param_grid, cv = 10, scoring = 'accuracy')\n",
    "grid_knn.fit(xtrain, ytrain)"
   ]
  },
  {
   "cell_type": "code",
   "execution_count": null,
   "id": "52df2e60",
   "metadata": {},
   "outputs": [],
   "source": [
    "grid_knn.get_params"
   ]
  },
  {
   "cell_type": "code",
   "execution_count": null,
   "id": "8fa3770b",
   "metadata": {},
   "outputs": [],
   "source": [
    "grid_knn.best_params_"
   ]
  },
  {
   "cell_type": "code",
   "execution_count": null,
   "id": "e024f47c",
   "metadata": {},
   "outputs": [],
   "source": [
    "grid_knn.best_score_"
   ]
  },
  {
   "cell_type": "markdown",
   "id": "1f824f1c",
   "metadata": {},
   "source": [
    "## 2.3.3 Redefining the model "
   ]
  },
  {
   "cell_type": "code",
   "execution_count": null,
   "id": "6ed4aa81",
   "metadata": {},
   "outputs": [],
   "source": [
    "grid_knn = KNeighborsClassifier(n_neighbors=4, weights='distance')"
   ]
  },
  {
   "cell_type": "code",
   "execution_count": null,
   "id": "99719787",
   "metadata": {},
   "outputs": [],
   "source": [
    "grid_knn_mod = grid_knn.fit(xtrain,ytrain)"
   ]
  },
  {
   "cell_type": "code",
   "execution_count": null,
   "id": "ada29834",
   "metadata": {},
   "outputs": [],
   "source": [
    "grid_knn_train_pred = grid_knn_mod.predict(xtrain)\n",
    "grid_knn_train_pred"
   ]
  },
  {
   "cell_type": "code",
   "execution_count": null,
   "id": "9ad02db0",
   "metadata": {},
   "outputs": [],
   "source": [
    "grid_knn_test_pred = grid_knn_mod.predict(xtest)\n",
    "grid_knn_test_pred"
   ]
  },
  {
   "cell_type": "markdown",
   "id": "03baba8c",
   "metadata": {},
   "source": [
    "### 2.3.3.1 Performance Metrics "
   ]
  },
  {
   "cell_type": "markdown",
   "id": "aaa455c8",
   "metadata": {},
   "source": [
    "#### 2.3.3.1.1 Accuracy Score"
   ]
  },
  {
   "cell_type": "code",
   "execution_count": null,
   "id": "6b6e0cfd",
   "metadata": {},
   "outputs": [],
   "source": [
    "print(\"KNN Training - Accuracy Score (After GridSearchCV): \",accuracy_score(ytrain, grid_knn_train_pred))"
   ]
  },
  {
   "cell_type": "code",
   "execution_count": null,
   "id": "0ed83460",
   "metadata": {},
   "outputs": [],
   "source": [
    "print(\"KNN Testing - Accuracy Score (After GridSearchCV): \",accuracy_score(ytest, grid_knn_test_pred))"
   ]
  },
  {
   "cell_type": "markdown",
   "id": "3c2bc15d",
   "metadata": {},
   "source": [
    "The model performed with a 99 % accuracy during the training phase. However, the accuracy has come way down to 90% during the testing phase. This is a sign of overfitting. "
   ]
  },
  {
   "cell_type": "markdown",
   "id": "e5add002",
   "metadata": {},
   "source": [
    "#### 2.3.3.1.2 Classification Report"
   ]
  },
  {
   "cell_type": "code",
   "execution_count": null,
   "id": "c634f103",
   "metadata": {},
   "outputs": [],
   "source": [
    "grid_knn_train_cr = classification_report(ytrain, grid_knn_train_pred)\n",
    "print(\"knn Training - Classification Report (After GridSearchCV): \\n\", grid_knn_train_cr)"
   ]
  },
  {
   "cell_type": "code",
   "execution_count": null,
   "id": "30679a8c",
   "metadata": {},
   "outputs": [],
   "source": [
    "grid_knn_test_cr = classification_report(ytest, grid_knn_test_pred)\n",
    "print(\"knn Testing - Classification Report (After GridSearchCV): \\n\", grid_knn_test_cr)"
   ]
  },
  {
   "cell_type": "markdown",
   "id": "ca1fe4ee",
   "metadata": {},
   "source": [
    "#### 2.3.3.1.3 Confusion Matrix"
   ]
  },
  {
   "cell_type": "code",
   "execution_count": null,
   "id": "22fdbb1c",
   "metadata": {},
   "outputs": [],
   "source": [
    "grid_knn_train_cm = confusion_matrix(ytrain, grid_knn_train_pred)\n",
    "print(\"knn Training - Confusion Matrix (After GridSearchCV)\\n\", grid_knn_train_cm)"
   ]
  },
  {
   "cell_type": "code",
   "execution_count": null,
   "id": "17c1d69a",
   "metadata": {},
   "outputs": [],
   "source": [
    "sns.heatmap(grid_knn_train_cm, annot=True, cmap = 'Spectral')\n",
    "plt.xlabel('Prediction')\n",
    "plt.ylabel('Target')\n",
    "plt.title('knn Training - Confusion Matrix (After GridSearchCV)')\n",
    "plt.show()"
   ]
  },
  {
   "cell_type": "code",
   "execution_count": null,
   "id": "8eaad3e8",
   "metadata": {},
   "outputs": [],
   "source": [
    "grid_knn_test_cm = confusion_matrix(ytest, grid_knn_test_pred)\n",
    "print(\"knn Testing - Confusion Matrix (After GridSearchCV)\\n\", grid_knn_test_cm)"
   ]
  },
  {
   "cell_type": "code",
   "execution_count": null,
   "id": "ca91225e",
   "metadata": {},
   "outputs": [],
   "source": [
    "sns.heatmap(grid_knn_test_cm, annot=True, cmap = 'Spectral')\n",
    "plt.xlabel('Prediction')\n",
    "plt.ylabel('Target')\n",
    "plt.title('knn Testing - Confusion Matrix (After GridSearchCV)')\n",
    "plt.show()"
   ]
  },
  {
   "cell_type": "markdown",
   "id": "c8f476d6",
   "metadata": {},
   "source": [
    "# 2.4 Building a Naive Baye's model"
   ]
  },
  {
   "cell_type": "code",
   "execution_count": null,
   "id": "f5acf5a5",
   "metadata": {},
   "outputs": [],
   "source": [
    "from sklearn.naive_bayes import GaussianNB"
   ]
  },
  {
   "cell_type": "code",
   "execution_count": null,
   "id": "8eaea355",
   "metadata": {},
   "outputs": [],
   "source": [
    "nb = GaussianNB()"
   ]
  },
  {
   "cell_type": "code",
   "execution_count": null,
   "id": "35edaf79",
   "metadata": {},
   "outputs": [],
   "source": [
    "nb_mod = nb.fit(xtrain,ytrain)"
   ]
  },
  {
   "cell_type": "code",
   "execution_count": null,
   "id": "d8fd5633",
   "metadata": {},
   "outputs": [],
   "source": [
    "nb_train_pred = nb_mod.predict(xtrain)\n",
    "nb_train_pred"
   ]
  },
  {
   "cell_type": "code",
   "execution_count": null,
   "id": "8227996c",
   "metadata": {},
   "outputs": [],
   "source": [
    "nb_test_pred = nb_mod.predict(xtest)\n",
    "nb_test_pred"
   ]
  },
  {
   "cell_type": "markdown",
   "id": "b57680f2",
   "metadata": {},
   "source": [
    "## 2.4.1 Performance Metrics"
   ]
  },
  {
   "cell_type": "markdown",
   "id": "c5cb288f",
   "metadata": {},
   "source": [
    "### 2.4.1.1 Accuracy Score"
   ]
  },
  {
   "cell_type": "code",
   "execution_count": null,
   "id": "0b78910d",
   "metadata": {},
   "outputs": [],
   "source": [
    "print(\"Naive bayes Training - Accuracy Score: \", accuracy_score(ytrain, nb_train_pred))"
   ]
  },
  {
   "cell_type": "code",
   "execution_count": null,
   "id": "86c9477d",
   "metadata": {},
   "outputs": [],
   "source": [
    "print(\"Naive bayes Testing - Accuracy Score: \", accuracy_score(ytest, nb_test_pred))"
   ]
  },
  {
   "cell_type": "markdown",
   "id": "7505c92b",
   "metadata": {},
   "source": [
    "The model performed with a 79 % accuracy during the training phase. However, the accuracy has come way down to 75% during the testing phase. This is a sign of overfitting. "
   ]
  },
  {
   "cell_type": "markdown",
   "id": "d92f35dc",
   "metadata": {},
   "source": [
    "### 2.4.1.2 Classification Report"
   ]
  },
  {
   "cell_type": "code",
   "execution_count": null,
   "id": "a3819693",
   "metadata": {},
   "outputs": [],
   "source": [
    "nb_train_cr = classification_report(ytrain, nb_train_pred)\n",
    "print(\"Naive Baye's Training - Classification Report : \\n\", nb_train_cr)"
   ]
  },
  {
   "cell_type": "code",
   "execution_count": null,
   "id": "1433456a",
   "metadata": {},
   "outputs": [],
   "source": [
    "nb_test_cr = classification_report(ytest, nb_test_pred)\n",
    "print(\"Naive Baye's Testing - Classification Report : \\n\", nb_test_cr)"
   ]
  },
  {
   "cell_type": "markdown",
   "id": "7ee28bbe",
   "metadata": {},
   "source": [
    "### 2.4.1.3 Confusion Matrix"
   ]
  },
  {
   "cell_type": "code",
   "execution_count": null,
   "id": "cd4ac3b3",
   "metadata": {},
   "outputs": [],
   "source": [
    "nb_train_cm = confusion_matrix(ytrain, nb_train_pred)\n",
    "print(\"Naive Baye's Training - Confusion Matrix \\n\", nb_train_cm)"
   ]
  },
  {
   "cell_type": "code",
   "execution_count": null,
   "id": "fbf31797",
   "metadata": {},
   "outputs": [],
   "source": [
    "sns.heatmap(nb_train_cm, annot=True, cmap = 'Spectral')\n",
    "plt.xlabel('Prediction')\n",
    "plt.ylabel('Target')\n",
    "plt.title(\" Naive Baye's Training - Confusion Matrix\")\n",
    "plt.show()"
   ]
  },
  {
   "cell_type": "code",
   "execution_count": null,
   "id": "ed19c103",
   "metadata": {},
   "outputs": [],
   "source": [
    "nb_test_cm = confusion_matrix(ytest, nb_test_pred)\n",
    "print(\"Naive Baye's Testing - Confusion Matrix \\n\", nb_test_cm)"
   ]
  },
  {
   "cell_type": "code",
   "execution_count": null,
   "id": "29523499",
   "metadata": {},
   "outputs": [],
   "source": [
    "sns.heatmap(nb_test_cm, annot=True, cmap = 'Spectral')\n",
    "plt.xlabel('Prediction')\n",
    "plt.ylabel('Target')\n",
    "plt.title(\"Naive Baye's Testing - Confusion Matrix\")\n",
    "plt.show()"
   ]
  }
 ],
 "metadata": {
  "kernelspec": {
   "display_name": "Python 3 (ipykernel)",
   "language": "python",
   "name": "python3"
  },
  "language_info": {
   "codemirror_mode": {
    "name": "ipython",
    "version": 3
   },
   "file_extension": ".py",
   "mimetype": "text/x-python",
   "name": "python",
   "nbconvert_exporter": "python",
   "pygments_lexer": "ipython3",
   "version": "3.10.9"
  },
  "toc": {
   "base_numbering": 1,
   "nav_menu": {},
   "number_sections": false,
   "sideBar": true,
   "skip_h1_title": false,
   "title_cell": "Table of Contents",
   "title_sidebar": "Contents",
   "toc_cell": false,
   "toc_position": {
    "height": "calc(100% - 180px)",
    "left": "10px",
    "top": "150px",
    "width": "165px"
   },
   "toc_section_display": true,
   "toc_window_display": true
  }
 },
 "nbformat": 4,
 "nbformat_minor": 5
}
